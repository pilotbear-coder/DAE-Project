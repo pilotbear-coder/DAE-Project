{
 "cells": [
  {
   "cell_type": "code",
   "execution_count": 2,
   "id": "cbb0b889",
   "metadata": {},
   "outputs": [],
   "source": [
    "import numpy as np\n",
    "import pandas as pd\n",
    "import plotly.express as px\n",
    "import plotly.graph_objects as go\n",
    "from sklearn.preprocessing import MinMaxScaler"
   ]
  },
  {
   "cell_type": "code",
   "execution_count": 3,
   "id": "342537cd",
   "metadata": {},
   "outputs": [
    {
     "data": {
      "text/html": [
       "<div>\n",
       "<style scoped>\n",
       "    .dataframe tbody tr th:only-of-type {\n",
       "        vertical-align: middle;\n",
       "    }\n",
       "\n",
       "    .dataframe tbody tr th {\n",
       "        vertical-align: top;\n",
       "    }\n",
       "\n",
       "    .dataframe thead th {\n",
       "        text-align: right;\n",
       "    }\n",
       "</style>\n",
       "<table border=\"1\" class=\"dataframe\">\n",
       "  <thead>\n",
       "    <tr style=\"text-align: right;\">\n",
       "      <th></th>\n",
       "      <th>iata_code</th>\n",
       "      <th>airline_name</th>\n",
       "      <th>region</th>\n",
       "      <th>functional_currency</th>\n",
       "      <th>ebit_usd</th>\n",
       "      <th>load_factor</th>\n",
       "      <th>low_cost_carrier</th>\n",
       "      <th>airline_age</th>\n",
       "      <th>num_routes</th>\n",
       "      <th>passenger_yield</th>\n",
       "      <th>ask</th>\n",
       "      <th>avg_fleet_age</th>\n",
       "      <th>fleet_size</th>\n",
       "      <th>aircraft_utilisation</th>\n",
       "    </tr>\n",
       "  </thead>\n",
       "  <tbody>\n",
       "    <tr>\n",
       "      <th>4</th>\n",
       "      <td>AD</td>\n",
       "      <td>Azul Brazilian Airlines</td>\n",
       "      <td>Latin America</td>\n",
       "      <td>BRL</td>\n",
       "      <td>5.968403e+08</td>\n",
       "      <td>0.804</td>\n",
       "      <td>Y</td>\n",
       "      <td>15.0</td>\n",
       "      <td>160.0</td>\n",
       "      <td>0.101</td>\n",
       "      <td>4.400600e+10</td>\n",
       "      <td>7.4</td>\n",
       "      <td>183.0</td>\n",
       "      <td>10.00</td>\n",
       "    </tr>\n",
       "    <tr>\n",
       "      <th>7</th>\n",
       "      <td>G3</td>\n",
       "      <td>GOL</td>\n",
       "      <td>Latin America</td>\n",
       "      <td>BRL</td>\n",
       "      <td>6.550507e+08</td>\n",
       "      <td>0.840</td>\n",
       "      <td>Y</td>\n",
       "      <td>23.0</td>\n",
       "      <td>77.0</td>\n",
       "      <td>0.088</td>\n",
       "      <td>1.073200e+10</td>\n",
       "      <td>10.7</td>\n",
       "      <td>141.0</td>\n",
       "      <td>11.70</td>\n",
       "    </tr>\n",
       "    <tr>\n",
       "      <th>17</th>\n",
       "      <td>FR</td>\n",
       "      <td>Ryanair</td>\n",
       "      <td>Europe</td>\n",
       "      <td>EUR</td>\n",
       "      <td>1.592200e+09</td>\n",
       "      <td>0.930</td>\n",
       "      <td>Y</td>\n",
       "      <td>40.0</td>\n",
       "      <td>228.0</td>\n",
       "      <td>0.057</td>\n",
       "      <td>2.220000e+11</td>\n",
       "      <td>9.0</td>\n",
       "      <td>537.0</td>\n",
       "      <td>9.10</td>\n",
       "    </tr>\n",
       "    <tr>\n",
       "      <th>19</th>\n",
       "      <td>BA</td>\n",
       "      <td>British Airways</td>\n",
       "      <td>Europe</td>\n",
       "      <td>GBP</td>\n",
       "      <td>1.821880e+09</td>\n",
       "      <td>0.836</td>\n",
       "      <td>N</td>\n",
       "      <td>50.0</td>\n",
       "      <td>200.0</td>\n",
       "      <td>0.115</td>\n",
       "      <td>1.676950e+11</td>\n",
       "      <td>13.0</td>\n",
       "      <td>284.0</td>\n",
       "      <td>10.03</td>\n",
       "    </tr>\n",
       "    <tr>\n",
       "      <th>22</th>\n",
       "      <td>W6</td>\n",
       "      <td>Wizz Air</td>\n",
       "      <td>Europe</td>\n",
       "      <td>EUR</td>\n",
       "      <td>-4.855000e+08</td>\n",
       "      <td>0.878</td>\n",
       "      <td>Y</td>\n",
       "      <td>21.0</td>\n",
       "      <td>1057.0</td>\n",
       "      <td>0.047</td>\n",
       "      <td>9.777909e+10</td>\n",
       "      <td>4.6</td>\n",
       "      <td>179.0</td>\n",
       "      <td>11.10</td>\n",
       "    </tr>\n",
       "  </tbody>\n",
       "</table>\n",
       "</div>"
      ],
      "text/plain": [
       "   iata_code             airline_name         region functional_currency  \\\n",
       "4         AD  Azul Brazilian Airlines  Latin America                 BRL   \n",
       "7         G3                      GOL  Latin America                 BRL   \n",
       "17        FR                  Ryanair         Europe                 EUR   \n",
       "19        BA          British Airways         Europe                 GBP   \n",
       "22        W6                 Wizz Air         Europe                 EUR   \n",
       "\n",
       "        ebit_usd  load_factor low_cost_carrier  airline_age  num_routes  \\\n",
       "4   5.968403e+08        0.804                Y         15.0       160.0   \n",
       "7   6.550507e+08        0.840                Y         23.0        77.0   \n",
       "17  1.592200e+09        0.930                Y         40.0       228.0   \n",
       "19  1.821880e+09        0.836                N         50.0       200.0   \n",
       "22 -4.855000e+08        0.878                Y         21.0      1057.0   \n",
       "\n",
       "    passenger_yield           ask  avg_fleet_age  fleet_size  \\\n",
       "4             0.101  4.400600e+10            7.4       183.0   \n",
       "7             0.088  1.073200e+10           10.7       141.0   \n",
       "17            0.057  2.220000e+11            9.0       537.0   \n",
       "19            0.115  1.676950e+11           13.0       284.0   \n",
       "22            0.047  9.777909e+10            4.6       179.0   \n",
       "\n",
       "    aircraft_utilisation  \n",
       "4                  10.00  \n",
       "7                  11.70  \n",
       "17                  9.10  \n",
       "19                 10.03  \n",
       "22                 11.10  "
      ]
     },
     "execution_count": 3,
     "metadata": {},
     "output_type": "execute_result"
    }
   ],
   "source": [
    "df = pd.read_csv(\"airline_data.csv\")\n",
    "df.dropna(inplace=True)\n",
    "\n",
    "df.head()"
   ]
  },
  {
   "cell_type": "code",
   "execution_count": 4,
   "id": "d2846e87",
   "metadata": {},
   "outputs": [
    {
     "data": {
      "text/html": [
       "<iframe\n",
       "    scrolling=\"no\"\n",
       "    width=\"100%\"\n",
       "    height=\"545px\"\n",
       "    src=\"iframe_figures/figure_4.html\"\n",
       "    frameborder=\"0\"\n",
       "    allowfullscreen\n",
       "></iframe>\n"
      ]
     },
     "metadata": {},
     "output_type": "display_data"
    }
   ],
   "source": [
    "fig1 = px.bar(df,x=\"airline_name\", y='ebit_usd',\n",
    "              title=\"EBIT(USD) by Airline\",\n",
    "              color='region',\n",
    "              text='ebit_usd')\n",
    "fig1.update_traces(texttemplate='%{text:.2s}',textposition='outside')\n",
    "fig1.update_layout(yaxis_title='EBIT(USD)',xaxis_title='Airline')\n",
    "fig1.show(renderer='iframe')"
   ]
  },
  {
   "cell_type": "code",
   "execution_count": 5,
   "id": "08bee874",
   "metadata": {},
   "outputs": [
    {
     "data": {
      "application/vnd.plotly.v1+json": {
       "config": {
        "plotlyServerURL": "https://plot.ly"
       },
       "data": [
        {
         "hovertemplate": "<b>%{hovertext}</b><br><br>airline_name=Azul Brazilian Airlines<br>LCC=Y<br>passenger_yield=%{x}<br>load_factor=%{y}<br>fleet_size=%{marker.size}<extra></extra>",
         "hovertext": [
          "Azul Brazilian Airlines"
         ],
         "legendgroup": "Azul Brazilian Airlines, Y",
         "marker": {
          "color": "#636efa",
          "size": {
           "bdata": "AAAAAADgZkA=",
           "dtype": "f8"
          },
          "sizemode": "area",
          "sizeref": 2.2625,
          "symbol": "circle"
         },
         "mode": "markers",
         "name": "Azul Brazilian Airlines, Y",
         "orientation": "v",
         "showlegend": true,
         "type": "scatter",
         "x": {
          "bdata": "QmDl0CLbuT8=",
          "dtype": "f8"
         },
         "xaxis": "x",
         "y": {
          "bdata": "7nw/NV666T8=",
          "dtype": "f8"
         },
         "yaxis": "y"
        },
        {
         "hovertemplate": "<b>%{hovertext}</b><br><br>airline_name=GOL<br>LCC=Y<br>passenger_yield=%{x}<br>load_factor=%{y}<br>fleet_size=%{marker.size}<extra></extra>",
         "hovertext": [
          "GOL"
         ],
         "legendgroup": "GOL, Y",
         "marker": {
          "color": "#EF553B",
          "size": {
           "bdata": "AAAAAACgYUA=",
           "dtype": "f8"
          },
          "sizemode": "area",
          "sizeref": 2.2625,
          "symbol": "circle"
         },
         "mode": "markers",
         "name": "GOL, Y",
         "orientation": "v",
         "showlegend": true,
         "type": "scatter",
         "x": {
          "bdata": "ukkMAiuHtj8=",
          "dtype": "f8"
         },
         "xaxis": "x",
         "y": {
          "bdata": "4XoUrkfh6j8=",
          "dtype": "f8"
         },
         "yaxis": "y"
        },
        {
         "hovertemplate": "<b>%{hovertext}</b><br><br>airline_name=Ryanair<br>LCC=Y<br>passenger_yield=%{x}<br>load_factor=%{y}<br>fleet_size=%{marker.size}<extra></extra>",
         "hovertext": [
          "Ryanair"
         ],
         "legendgroup": "Ryanair, Y",
         "marker": {
          "color": "#00cc96",
          "size": {
           "bdata": "AAAAAADIgEA=",
           "dtype": "f8"
          },
          "sizemode": "area",
          "sizeref": 2.2625,
          "symbol": "circle"
         },
         "mode": "markers",
         "name": "Ryanair, Y",
         "orientation": "v",
         "showlegend": true,
         "type": "scatter",
         "x": {
          "bdata": "yXa+nxovrT8=",
          "dtype": "f8"
         },
         "xaxis": "x",
         "y": {
          "bdata": "w/UoXI/C7T8=",
          "dtype": "f8"
         },
         "yaxis": "y"
        },
        {
         "hovertemplate": "<b>%{hovertext}</b><br><br>airline_name=British Airways<br>LCC=N<br>passenger_yield=%{x}<br>load_factor=%{y}<br>fleet_size=%{marker.size}<extra></extra>",
         "hovertext": [
          "British Airways"
         ],
         "legendgroup": "British Airways, N",
         "marker": {
          "color": "#ab63fa",
          "size": {
           "bdata": "AAAAAADAcUA=",
           "dtype": "f8"
          },
          "sizemode": "area",
          "sizeref": 2.2625,
          "symbol": "diamond"
         },
         "mode": "markers",
         "name": "British Airways, N",
         "orientation": "v",
         "showlegend": true,
         "type": "scatter",
         "x": {
          "bdata": "cT0K16NwvT8=",
          "dtype": "f8"
         },
         "xaxis": "x",
         "y": {
          "bdata": "jZduEoPA6j8=",
          "dtype": "f8"
         },
         "yaxis": "y"
        },
        {
         "hovertemplate": "<b>%{hovertext}</b><br><br>airline_name=Wizz Air<br>LCC=Y<br>passenger_yield=%{x}<br>load_factor=%{y}<br>fleet_size=%{marker.size}<extra></extra>",
         "hovertext": [
          "Wizz Air"
         ],
         "legendgroup": "Wizz Air, Y",
         "marker": {
          "color": "#FFA15A",
          "size": {
           "bdata": "AAAAAABgZkA=",
           "dtype": "f8"
          },
          "sizemode": "area",
          "sizeref": 2.2625,
          "symbol": "circle"
         },
         "mode": "markers",
         "name": "Wizz Air, Y",
         "orientation": "v",
         "showlegend": true,
         "type": "scatter",
         "x": {
          "bdata": "qvHSTWIQqD8=",
          "dtype": "f8"
         },
         "xaxis": "x",
         "y": {
          "bdata": "f2q8dJMY7D8=",
          "dtype": "f8"
         },
         "yaxis": "y"
        },
        {
         "hovertemplate": "<b>%{hovertext}</b><br><br>airline_name=Air Baltic<br>LCC=N<br>passenger_yield=%{x}<br>load_factor=%{y}<br>fleet_size=%{marker.size}<extra></extra>",
         "hovertext": [
          "Air Baltic"
         ],
         "legendgroup": "Air Baltic, N",
         "marker": {
          "color": "#19d3f3",
          "size": {
           "bdata": "AAAAAAAAR0A=",
           "dtype": "f8"
          },
          "sizemode": "area",
          "sizeref": 2.2625,
          "symbol": "diamond"
         },
         "mode": "markers",
         "name": "Air Baltic, N",
         "orientation": "v",
         "showlegend": true,
         "type": "scatter",
         "x": {
          "bdata": "YhBYObTItj8=",
          "dtype": "f8"
         },
         "xaxis": "x",
         "y": {
          "bdata": "JQaBlUOL6D8=",
          "dtype": "f8"
         },
         "yaxis": "y"
        },
        {
         "hovertemplate": "<b>%{hovertext}</b><br><br>airline_name=Croatia Airlines<br>LCC=N<br>passenger_yield=%{x}<br>load_factor=%{y}<br>fleet_size=%{marker.size}<extra></extra>",
         "hovertext": [
          "Croatia Airlines"
         ],
         "legendgroup": "Croatia Airlines, N",
         "marker": {
          "color": "#FF6692",
          "size": {
           "bdata": "AAAAAAAAKEA=",
           "dtype": "f8"
          },
          "sizemode": "area",
          "sizeref": 2.2625,
          "symbol": "diamond"
         },
         "mode": "markers",
         "name": "Croatia Airlines, N",
         "orientation": "v",
         "showlegend": true,
         "type": "scatter",
         "x": {
          "bdata": "exSuR+F6xD8=",
          "dtype": "f8"
         },
         "xaxis": "x",
         "y": {
          "bdata": "TDeJQWDl5D8=",
          "dtype": "f8"
         },
         "yaxis": "y"
        },
        {
         "hovertemplate": "<b>%{hovertext}</b><br><br>airline_name=Volaris<br>LCC=Y<br>passenger_yield=%{x}<br>load_factor=%{y}<br>fleet_size=%{marker.size}<extra></extra>",
         "hovertext": [
          "Volaris"
         ],
         "legendgroup": "Volaris, Y",
         "marker": {
          "color": "#B6E880",
          "size": {
           "bdata": "AAAAAAAgYEA=",
           "dtype": "f8"
          },
          "sizemode": "area",
          "sizeref": 2.2625,
          "symbol": "circle"
         },
         "mode": "markers",
         "name": "Volaris, Y",
         "orientation": "v",
         "showlegend": true,
         "type": "scatter",
         "x": {
          "bdata": "GQRWDi2yrT8=",
          "dtype": "f8"
         },
         "xaxis": "x",
         "y": {
          "bdata": "MzMzMzMz6z8=",
          "dtype": "f8"
         },
         "yaxis": "y"
        },
        {
         "hovertemplate": "<b>%{hovertext}</b><br><br>airline_name=Frontier Airlines<br>LCC=Y<br>passenger_yield=%{x}<br>load_factor=%{y}<br>fleet_size=%{marker.size}<extra></extra>",
         "hovertext": [
          "Frontier Airlines"
         ],
         "legendgroup": "Frontier Airlines, Y",
         "marker": {
          "color": "#FF97FF",
          "size": {
           "bdata": "AAAAAAAAYUA=",
           "dtype": "f8"
          },
          "sizemode": "area",
          "sizeref": 2.2625,
          "symbol": "circle"
         },
         "mode": "markers",
         "name": "Frontier Airlines, Y",
         "orientation": "v",
         "showlegend": true,
         "type": "scatter",
         "x": {
          "bdata": "kxgEVg4tsj8=",
          "dtype": "f8"
         },
         "xaxis": "x",
         "y": {
          "bdata": "PzVeukkM6j8=",
          "dtype": "f8"
         },
         "yaxis": "y"
        },
        {
         "hovertemplate": "<b>%{hovertext}</b><br><br>airline_name=Viva Aerobus<br>LCC=Y<br>passenger_yield=%{x}<br>load_factor=%{y}<br>fleet_size=%{marker.size}<extra></extra>",
         "hovertext": [
          "Viva Aerobus"
         ],
         "legendgroup": "Viva Aerobus, Y",
         "marker": {
          "color": "#FECB52",
          "size": {
           "bdata": "AAAAAABAVEA=",
           "dtype": "f8"
          },
          "sizemode": "area",
          "sizeref": 2.2625,
          "symbol": "circle"
         },
         "mode": "markers",
         "name": "Viva Aerobus, Y",
         "orientation": "v",
         "showlegend": true,
         "type": "scatter",
         "x": {
          "bdata": "i2zn+6nxoj8=",
          "dtype": "f8"
         },
         "xaxis": "x",
         "y": {
          "bdata": "WDm0yHa+6z8=",
          "dtype": "f8"
         },
         "yaxis": "y"
        },
        {
         "hovertemplate": "<b>%{hovertext}</b><br><br>airline_name=Allegiant Air<br>LCC=N<br>passenger_yield=%{x}<br>load_factor=%{y}<br>fleet_size=%{marker.size}<extra></extra>",
         "hovertext": [
          "Allegiant Air"
         ],
         "legendgroup": "Allegiant Air, N",
         "marker": {
          "color": "#636efa",
          "size": {
           "bdata": "AAAAAACAX0A=",
           "dtype": "f8"
          },
          "sizemode": "area",
          "sizeref": 2.2625,
          "symbol": "diamond"
         },
         "mode": "markers",
         "name": "Allegiant Air, N",
         "orientation": "v",
         "showlegend": true,
         "type": "scatter",
         "x": {
          "bdata": "qvHSTWIQqD8=",
          "dtype": "f8"
         },
         "xaxis": "x",
         "y": {
          "bdata": "sHJoke186z8=",
          "dtype": "f8"
         },
         "yaxis": "y"
        },
        {
         "hovertemplate": "<b>%{hovertext}</b><br><br>airline_name=Air China<br>LCC=N<br>passenger_yield=%{x}<br>load_factor=%{y}<br>fleet_size=%{marker.size}<extra></extra>",
         "hovertext": [
          "Air China"
         ],
         "legendgroup": "Air China, N",
         "marker": {
          "color": "#EF553B",
          "size": {
           "bdata": "AAAAAABIjEA=",
           "dtype": "f8"
          },
          "sizemode": "area",
          "sizeref": 2.2625,
          "symbol": "diamond"
         },
         "mode": "markers",
         "name": "Air China, N",
         "orientation": "v",
         "showlegend": true,
         "type": "scatter",
         "x": {
          "bdata": "arx0kxgEtj8=",
          "dtype": "f8"
         },
         "xaxis": "x",
         "y": {
          "bdata": "BoGVQ4ts5z8=",
          "dtype": "f8"
         },
         "yaxis": "y"
        },
        {
         "hovertemplate": "<b>%{hovertext}</b><br><br>airline_name=IndiGo<br>LCC=Y<br>passenger_yield=%{x}<br>load_factor=%{y}<br>fleet_size=%{marker.size}<extra></extra>",
         "hovertext": [
          "IndiGo"
         ],
         "legendgroup": "IndiGo, Y",
         "marker": {
          "color": "#00cc96",
          "size": {
           "bdata": "AAAAAADAckA=",
           "dtype": "f8"
          },
          "sizemode": "area",
          "sizeref": 2.2625,
          "symbol": "circle"
         },
         "mode": "markers",
         "name": "IndiGo, Y",
         "orientation": "v",
         "showlegend": true,
         "type": "scatter",
         "x": {
          "bdata": "TDeJQWDlsD8=",
          "dtype": "f8"
         },
         "xaxis": "x",
         "y": {
          "bdata": "EoPAyqFF6j8=",
          "dtype": "f8"
         },
         "yaxis": "y"
        },
        {
         "hovertemplate": "<b>%{hovertext}</b><br><br>airline_name=Cathay Pacific<br>LCC=N<br>passenger_yield=%{x}<br>load_factor=%{y}<br>fleet_size=%{marker.size}<extra></extra>",
         "hovertext": [
          "Cathay Pacific"
         ],
         "legendgroup": "Cathay Pacific, N",
         "marker": {
          "color": "#ab63fa",
          "size": {
           "bdata": "AAAAAACgZkA=",
           "dtype": "f8"
          },
          "sizemode": "area",
          "sizeref": 2.2625,
          "symbol": "diamond"
         },
         "mode": "markers",
         "name": "Cathay Pacific, N",
         "orientation": "v",
         "showlegend": true,
         "type": "scatter",
         "x": {
          "bdata": "SgwCK4cWuT8=",
          "dtype": "f8"
         },
         "xaxis": "x",
         "y": {
          "bdata": "BoGVQ4ts6z8=",
          "dtype": "f8"
         },
         "yaxis": "y"
        }
       ],
       "layout": {
        "legend": {
         "itemsizing": "constant",
         "title": {
          "text": "airline_name, LCC"
         },
         "tracegroupgap": 0
        },
        "template": {
         "data": {
          "bar": [
           {
            "error_x": {
             "color": "#2a3f5f"
            },
            "error_y": {
             "color": "#2a3f5f"
            },
            "marker": {
             "line": {
              "color": "#E5ECF6",
              "width": 0.5
             },
             "pattern": {
              "fillmode": "overlay",
              "size": 10,
              "solidity": 0.2
             }
            },
            "type": "bar"
           }
          ],
          "barpolar": [
           {
            "marker": {
             "line": {
              "color": "#E5ECF6",
              "width": 0.5
             },
             "pattern": {
              "fillmode": "overlay",
              "size": 10,
              "solidity": 0.2
             }
            },
            "type": "barpolar"
           }
          ],
          "carpet": [
           {
            "aaxis": {
             "endlinecolor": "#2a3f5f",
             "gridcolor": "white",
             "linecolor": "white",
             "minorgridcolor": "white",
             "startlinecolor": "#2a3f5f"
            },
            "baxis": {
             "endlinecolor": "#2a3f5f",
             "gridcolor": "white",
             "linecolor": "white",
             "minorgridcolor": "white",
             "startlinecolor": "#2a3f5f"
            },
            "type": "carpet"
           }
          ],
          "choropleth": [
           {
            "colorbar": {
             "outlinewidth": 0,
             "ticks": ""
            },
            "type": "choropleth"
           }
          ],
          "contour": [
           {
            "colorbar": {
             "outlinewidth": 0,
             "ticks": ""
            },
            "colorscale": [
             [
              0,
              "#0d0887"
             ],
             [
              0.1111111111111111,
              "#46039f"
             ],
             [
              0.2222222222222222,
              "#7201a8"
             ],
             [
              0.3333333333333333,
              "#9c179e"
             ],
             [
              0.4444444444444444,
              "#bd3786"
             ],
             [
              0.5555555555555556,
              "#d8576b"
             ],
             [
              0.6666666666666666,
              "#ed7953"
             ],
             [
              0.7777777777777778,
              "#fb9f3a"
             ],
             [
              0.8888888888888888,
              "#fdca26"
             ],
             [
              1,
              "#f0f921"
             ]
            ],
            "type": "contour"
           }
          ],
          "contourcarpet": [
           {
            "colorbar": {
             "outlinewidth": 0,
             "ticks": ""
            },
            "type": "contourcarpet"
           }
          ],
          "heatmap": [
           {
            "colorbar": {
             "outlinewidth": 0,
             "ticks": ""
            },
            "colorscale": [
             [
              0,
              "#0d0887"
             ],
             [
              0.1111111111111111,
              "#46039f"
             ],
             [
              0.2222222222222222,
              "#7201a8"
             ],
             [
              0.3333333333333333,
              "#9c179e"
             ],
             [
              0.4444444444444444,
              "#bd3786"
             ],
             [
              0.5555555555555556,
              "#d8576b"
             ],
             [
              0.6666666666666666,
              "#ed7953"
             ],
             [
              0.7777777777777778,
              "#fb9f3a"
             ],
             [
              0.8888888888888888,
              "#fdca26"
             ],
             [
              1,
              "#f0f921"
             ]
            ],
            "type": "heatmap"
           }
          ],
          "histogram": [
           {
            "marker": {
             "pattern": {
              "fillmode": "overlay",
              "size": 10,
              "solidity": 0.2
             }
            },
            "type": "histogram"
           }
          ],
          "histogram2d": [
           {
            "colorbar": {
             "outlinewidth": 0,
             "ticks": ""
            },
            "colorscale": [
             [
              0,
              "#0d0887"
             ],
             [
              0.1111111111111111,
              "#46039f"
             ],
             [
              0.2222222222222222,
              "#7201a8"
             ],
             [
              0.3333333333333333,
              "#9c179e"
             ],
             [
              0.4444444444444444,
              "#bd3786"
             ],
             [
              0.5555555555555556,
              "#d8576b"
             ],
             [
              0.6666666666666666,
              "#ed7953"
             ],
             [
              0.7777777777777778,
              "#fb9f3a"
             ],
             [
              0.8888888888888888,
              "#fdca26"
             ],
             [
              1,
              "#f0f921"
             ]
            ],
            "type": "histogram2d"
           }
          ],
          "histogram2dcontour": [
           {
            "colorbar": {
             "outlinewidth": 0,
             "ticks": ""
            },
            "colorscale": [
             [
              0,
              "#0d0887"
             ],
             [
              0.1111111111111111,
              "#46039f"
             ],
             [
              0.2222222222222222,
              "#7201a8"
             ],
             [
              0.3333333333333333,
              "#9c179e"
             ],
             [
              0.4444444444444444,
              "#bd3786"
             ],
             [
              0.5555555555555556,
              "#d8576b"
             ],
             [
              0.6666666666666666,
              "#ed7953"
             ],
             [
              0.7777777777777778,
              "#fb9f3a"
             ],
             [
              0.8888888888888888,
              "#fdca26"
             ],
             [
              1,
              "#f0f921"
             ]
            ],
            "type": "histogram2dcontour"
           }
          ],
          "mesh3d": [
           {
            "colorbar": {
             "outlinewidth": 0,
             "ticks": ""
            },
            "type": "mesh3d"
           }
          ],
          "parcoords": [
           {
            "line": {
             "colorbar": {
              "outlinewidth": 0,
              "ticks": ""
             }
            },
            "type": "parcoords"
           }
          ],
          "pie": [
           {
            "automargin": true,
            "type": "pie"
           }
          ],
          "scatter": [
           {
            "fillpattern": {
             "fillmode": "overlay",
             "size": 10,
             "solidity": 0.2
            },
            "type": "scatter"
           }
          ],
          "scatter3d": [
           {
            "line": {
             "colorbar": {
              "outlinewidth": 0,
              "ticks": ""
             }
            },
            "marker": {
             "colorbar": {
              "outlinewidth": 0,
              "ticks": ""
             }
            },
            "type": "scatter3d"
           }
          ],
          "scattercarpet": [
           {
            "marker": {
             "colorbar": {
              "outlinewidth": 0,
              "ticks": ""
             }
            },
            "type": "scattercarpet"
           }
          ],
          "scattergeo": [
           {
            "marker": {
             "colorbar": {
              "outlinewidth": 0,
              "ticks": ""
             }
            },
            "type": "scattergeo"
           }
          ],
          "scattergl": [
           {
            "marker": {
             "colorbar": {
              "outlinewidth": 0,
              "ticks": ""
             }
            },
            "type": "scattergl"
           }
          ],
          "scattermap": [
           {
            "marker": {
             "colorbar": {
              "outlinewidth": 0,
              "ticks": ""
             }
            },
            "type": "scattermap"
           }
          ],
          "scattermapbox": [
           {
            "marker": {
             "colorbar": {
              "outlinewidth": 0,
              "ticks": ""
             }
            },
            "type": "scattermapbox"
           }
          ],
          "scatterpolar": [
           {
            "marker": {
             "colorbar": {
              "outlinewidth": 0,
              "ticks": ""
             }
            },
            "type": "scatterpolar"
           }
          ],
          "scatterpolargl": [
           {
            "marker": {
             "colorbar": {
              "outlinewidth": 0,
              "ticks": ""
             }
            },
            "type": "scatterpolargl"
           }
          ],
          "scatterternary": [
           {
            "marker": {
             "colorbar": {
              "outlinewidth": 0,
              "ticks": ""
             }
            },
            "type": "scatterternary"
           }
          ],
          "surface": [
           {
            "colorbar": {
             "outlinewidth": 0,
             "ticks": ""
            },
            "colorscale": [
             [
              0,
              "#0d0887"
             ],
             [
              0.1111111111111111,
              "#46039f"
             ],
             [
              0.2222222222222222,
              "#7201a8"
             ],
             [
              0.3333333333333333,
              "#9c179e"
             ],
             [
              0.4444444444444444,
              "#bd3786"
             ],
             [
              0.5555555555555556,
              "#d8576b"
             ],
             [
              0.6666666666666666,
              "#ed7953"
             ],
             [
              0.7777777777777778,
              "#fb9f3a"
             ],
             [
              0.8888888888888888,
              "#fdca26"
             ],
             [
              1,
              "#f0f921"
             ]
            ],
            "type": "surface"
           }
          ],
          "table": [
           {
            "cells": {
             "fill": {
              "color": "#EBF0F8"
             },
             "line": {
              "color": "white"
             }
            },
            "header": {
             "fill": {
              "color": "#C8D4E3"
             },
             "line": {
              "color": "white"
             }
            },
            "type": "table"
           }
          ]
         },
         "layout": {
          "annotationdefaults": {
           "arrowcolor": "#2a3f5f",
           "arrowhead": 0,
           "arrowwidth": 1
          },
          "autotypenumbers": "strict",
          "coloraxis": {
           "colorbar": {
            "outlinewidth": 0,
            "ticks": ""
           }
          },
          "colorscale": {
           "diverging": [
            [
             0,
             "#8e0152"
            ],
            [
             0.1,
             "#c51b7d"
            ],
            [
             0.2,
             "#de77ae"
            ],
            [
             0.3,
             "#f1b6da"
            ],
            [
             0.4,
             "#fde0ef"
            ],
            [
             0.5,
             "#f7f7f7"
            ],
            [
             0.6,
             "#e6f5d0"
            ],
            [
             0.7,
             "#b8e186"
            ],
            [
             0.8,
             "#7fbc41"
            ],
            [
             0.9,
             "#4d9221"
            ],
            [
             1,
             "#276419"
            ]
           ],
           "sequential": [
            [
             0,
             "#0d0887"
            ],
            [
             0.1111111111111111,
             "#46039f"
            ],
            [
             0.2222222222222222,
             "#7201a8"
            ],
            [
             0.3333333333333333,
             "#9c179e"
            ],
            [
             0.4444444444444444,
             "#bd3786"
            ],
            [
             0.5555555555555556,
             "#d8576b"
            ],
            [
             0.6666666666666666,
             "#ed7953"
            ],
            [
             0.7777777777777778,
             "#fb9f3a"
            ],
            [
             0.8888888888888888,
             "#fdca26"
            ],
            [
             1,
             "#f0f921"
            ]
           ],
           "sequentialminus": [
            [
             0,
             "#0d0887"
            ],
            [
             0.1111111111111111,
             "#46039f"
            ],
            [
             0.2222222222222222,
             "#7201a8"
            ],
            [
             0.3333333333333333,
             "#9c179e"
            ],
            [
             0.4444444444444444,
             "#bd3786"
            ],
            [
             0.5555555555555556,
             "#d8576b"
            ],
            [
             0.6666666666666666,
             "#ed7953"
            ],
            [
             0.7777777777777778,
             "#fb9f3a"
            ],
            [
             0.8888888888888888,
             "#fdca26"
            ],
            [
             1,
             "#f0f921"
            ]
           ]
          },
          "colorway": [
           "#636efa",
           "#EF553B",
           "#00cc96",
           "#ab63fa",
           "#FFA15A",
           "#19d3f3",
           "#FF6692",
           "#B6E880",
           "#FF97FF",
           "#FECB52"
          ],
          "font": {
           "color": "#2a3f5f"
          },
          "geo": {
           "bgcolor": "white",
           "lakecolor": "white",
           "landcolor": "#E5ECF6",
           "showlakes": true,
           "showland": true,
           "subunitcolor": "white"
          },
          "hoverlabel": {
           "align": "left"
          },
          "hovermode": "closest",
          "mapbox": {
           "style": "light"
          },
          "paper_bgcolor": "white",
          "plot_bgcolor": "#E5ECF6",
          "polar": {
           "angularaxis": {
            "gridcolor": "white",
            "linecolor": "white",
            "ticks": ""
           },
           "bgcolor": "#E5ECF6",
           "radialaxis": {
            "gridcolor": "white",
            "linecolor": "white",
            "ticks": ""
           }
          },
          "scene": {
           "xaxis": {
            "backgroundcolor": "#E5ECF6",
            "gridcolor": "white",
            "gridwidth": 2,
            "linecolor": "white",
            "showbackground": true,
            "ticks": "",
            "zerolinecolor": "white"
           },
           "yaxis": {
            "backgroundcolor": "#E5ECF6",
            "gridcolor": "white",
            "gridwidth": 2,
            "linecolor": "white",
            "showbackground": true,
            "ticks": "",
            "zerolinecolor": "white"
           },
           "zaxis": {
            "backgroundcolor": "#E5ECF6",
            "gridcolor": "white",
            "gridwidth": 2,
            "linecolor": "white",
            "showbackground": true,
            "ticks": "",
            "zerolinecolor": "white"
           }
          },
          "shapedefaults": {
           "line": {
            "color": "#2a3f5f"
           }
          },
          "ternary": {
           "aaxis": {
            "gridcolor": "white",
            "linecolor": "white",
            "ticks": ""
           },
           "baxis": {
            "gridcolor": "white",
            "linecolor": "white",
            "ticks": ""
           },
           "bgcolor": "#E5ECF6",
           "caxis": {
            "gridcolor": "white",
            "linecolor": "white",
            "ticks": ""
           }
          },
          "title": {
           "x": 0.05
          },
          "xaxis": {
           "automargin": true,
           "gridcolor": "white",
           "linecolor": "white",
           "ticks": "",
           "title": {
            "standoff": 15
           },
           "zerolinecolor": "white",
           "zerolinewidth": 2
          },
          "yaxis": {
           "automargin": true,
           "gridcolor": "white",
           "linecolor": "white",
           "ticks": "",
           "title": {
            "standoff": 15
           },
           "zerolinecolor": "white",
           "zerolinewidth": 2
          }
         }
        },
        "title": {
         "text": "Load Factor vs Passenger Yield"
        },
        "xaxis": {
         "anchor": "y",
         "domain": [
          0,
          1
         ],
         "title": {
          "text": "passenger_yield"
         }
        },
        "yaxis": {
         "anchor": "x",
         "domain": [
          0,
          1
         ],
         "title": {
          "text": "load_factor"
         }
        }
       }
      }
     },
     "metadata": {},
     "output_type": "display_data"
    }
   ],
   "source": [
    "fig2 = px.scatter(df,x='passenger_yield',y='load_factor',\n",
    "                  color='airline_name',\n",
    "                  symbol='low_cost_carrier',\n",
    "                  size='fleet_size',\n",
    "                  hover_name='airline_name',\n",
    "                  title='Load Factor vs Passenger Yield',\n",
    "                  labels={'low_cost_carrier':'LCC'})\n",
    "\n",
    "fig2.show(render='iframe')"
   ]
  }
 ],
 "metadata": {
  "kernelspec": {
   "display_name": ".venv",
   "language": "python",
   "name": "python3"
  },
  "language_info": {
   "codemirror_mode": {
    "name": "ipython",
    "version": 3
   },
   "file_extension": ".py",
   "mimetype": "text/x-python",
   "name": "python",
   "nbconvert_exporter": "python",
   "pygments_lexer": "ipython3",
   "version": "3.13.1"
  }
 },
 "nbformat": 4,
 "nbformat_minor": 5
}
