{
 "cells": [
  {
   "cell_type": "markdown",
   "metadata": {
    "deletable": false,
    "editable": false,
    "nbgrader": {
     "cell_type": "markdown",
     "checksum": "656cee2596d490fbceff4ef0eaf5fe84",
     "grade": false,
     "grade_id": "cell-0a6da049a8a11532",
     "locked": true,
     "schema_version": 3,
     "solution": false,
     "task": false
    }
   },
   "source": [
    "#  Module 9 Assignment"
   ]
  },
  {
   "cell_type": "markdown",
   "metadata": {
    "deletable": false,
    "editable": false,
    "nbgrader": {
     "cell_type": "markdown",
     "checksum": "4a0f6f42226a16ec1cd9b2d9607b5819",
     "grade": false,
     "grade_id": "cell-b93dbdf91f77886a",
     "locked": true,
     "schema_version": 3,
     "solution": false,
     "task": false
    }
   },
   "source": [
    "### Assessment Overview\n",
    "\n",
    "In this assignment, you will be working with the \"fb_stock_prices_2018.csv\" dataset. \n",
    "You'll complete four tasks in Python with this dataset using the detailed instructions \n",
    "provided within your Jupyter Notebook Lab environment.  For details on how to use your \n",
    "Lab environment, please reference the provided course resource \"Getting Started with Jupyter Notebook Labs.\" Your assignment is to complete the following tasks:\n",
    "\n",
    "#### Tasks & Grading Rubric: (100 points total)\n",
    "**Task 1:** Create a box plot of Facebook volume and closing prices and draw reference lines for the bounds of a Turkey fence with a multiplier of 1.5. (30 Points)\n",
    "\n",
    "**Task 2:** Fill in the area between the bounds in the plot from Step 1 (30 Points)\n",
    "\n",
    "**Task 3:** Visualize daily stock price changes for Facebook using a stack plot. (20 Points)\n",
    "\n",
    "**Task 4:** Create a Pearson Correlation Heatmap and customize it by using the 'viridis' colormap (20 Points)\n",
    "\n"
   ]
  },
  {
   "cell_type": "code",
   "execution_count": 1,
   "metadata": {
    "deletable": false,
    "editable": false,
    "nbgrader": {
     "cell_type": "code",
     "checksum": "f01043ac58139fd25dd911d794bd068a",
     "grade": false,
     "grade_id": "cell-cfe73b5f688addfd",
     "locked": true,
     "schema_version": 3,
     "solution": false,
     "task": false
    }
   },
   "outputs": [
    {
     "data": {
      "text/html": [
       "<div>\n",
       "<style scoped>\n",
       "    .dataframe tbody tr th:only-of-type {\n",
       "        vertical-align: middle;\n",
       "    }\n",
       "\n",
       "    .dataframe tbody tr th {\n",
       "        vertical-align: top;\n",
       "    }\n",
       "\n",
       "    .dataframe thead th {\n",
       "        text-align: right;\n",
       "    }\n",
       "</style>\n",
       "<table border=\"1\" class=\"dataframe\">\n",
       "  <thead>\n",
       "    <tr style=\"text-align: right;\">\n",
       "      <th></th>\n",
       "      <th>open</th>\n",
       "      <th>high</th>\n",
       "      <th>low</th>\n",
       "      <th>close</th>\n",
       "      <th>volume</th>\n",
       "    </tr>\n",
       "    <tr>\n",
       "      <th>date</th>\n",
       "      <th></th>\n",
       "      <th></th>\n",
       "      <th></th>\n",
       "      <th></th>\n",
       "      <th></th>\n",
       "    </tr>\n",
       "  </thead>\n",
       "  <tbody>\n",
       "    <tr>\n",
       "      <th>2018-01-02</th>\n",
       "      <td>177.68</td>\n",
       "      <td>181.58</td>\n",
       "      <td>177.5500</td>\n",
       "      <td>181.42</td>\n",
       "      <td>18151903</td>\n",
       "    </tr>\n",
       "    <tr>\n",
       "      <th>2018-01-03</th>\n",
       "      <td>181.88</td>\n",
       "      <td>184.78</td>\n",
       "      <td>181.3300</td>\n",
       "      <td>184.67</td>\n",
       "      <td>16886563</td>\n",
       "    </tr>\n",
       "    <tr>\n",
       "      <th>2018-01-04</th>\n",
       "      <td>184.90</td>\n",
       "      <td>186.21</td>\n",
       "      <td>184.0996</td>\n",
       "      <td>184.33</td>\n",
       "      <td>13880896</td>\n",
       "    </tr>\n",
       "    <tr>\n",
       "      <th>2018-01-05</th>\n",
       "      <td>185.59</td>\n",
       "      <td>186.90</td>\n",
       "      <td>184.9300</td>\n",
       "      <td>186.85</td>\n",
       "      <td>13574535</td>\n",
       "    </tr>\n",
       "    <tr>\n",
       "      <th>2018-01-08</th>\n",
       "      <td>187.20</td>\n",
       "      <td>188.90</td>\n",
       "      <td>186.3300</td>\n",
       "      <td>188.28</td>\n",
       "      <td>17994726</td>\n",
       "    </tr>\n",
       "    <tr>\n",
       "      <th>...</th>\n",
       "      <td>...</td>\n",
       "      <td>...</td>\n",
       "      <td>...</td>\n",
       "      <td>...</td>\n",
       "      <td>...</td>\n",
       "    </tr>\n",
       "    <tr>\n",
       "      <th>2018-12-24</th>\n",
       "      <td>123.10</td>\n",
       "      <td>129.74</td>\n",
       "      <td>123.0200</td>\n",
       "      <td>124.06</td>\n",
       "      <td>22066002</td>\n",
       "    </tr>\n",
       "    <tr>\n",
       "      <th>2018-12-26</th>\n",
       "      <td>126.00</td>\n",
       "      <td>134.24</td>\n",
       "      <td>125.8900</td>\n",
       "      <td>134.18</td>\n",
       "      <td>39723370</td>\n",
       "    </tr>\n",
       "    <tr>\n",
       "      <th>2018-12-27</th>\n",
       "      <td>132.44</td>\n",
       "      <td>134.99</td>\n",
       "      <td>129.6700</td>\n",
       "      <td>134.52</td>\n",
       "      <td>31202509</td>\n",
       "    </tr>\n",
       "    <tr>\n",
       "      <th>2018-12-28</th>\n",
       "      <td>135.34</td>\n",
       "      <td>135.92</td>\n",
       "      <td>132.2000</td>\n",
       "      <td>133.20</td>\n",
       "      <td>22627569</td>\n",
       "    </tr>\n",
       "    <tr>\n",
       "      <th>2018-12-31</th>\n",
       "      <td>134.45</td>\n",
       "      <td>134.64</td>\n",
       "      <td>129.9500</td>\n",
       "      <td>131.09</td>\n",
       "      <td>24625308</td>\n",
       "    </tr>\n",
       "  </tbody>\n",
       "</table>\n",
       "<p>251 rows × 5 columns</p>\n",
       "</div>"
      ],
      "text/plain": [
       "              open    high       low   close    volume\n",
       "date                                                  \n",
       "2018-01-02  177.68  181.58  177.5500  181.42  18151903\n",
       "2018-01-03  181.88  184.78  181.3300  184.67  16886563\n",
       "2018-01-04  184.90  186.21  184.0996  184.33  13880896\n",
       "2018-01-05  185.59  186.90  184.9300  186.85  13574535\n",
       "2018-01-08  187.20  188.90  186.3300  188.28  17994726\n",
       "...            ...     ...       ...     ...       ...\n",
       "2018-12-24  123.10  129.74  123.0200  124.06  22066002\n",
       "2018-12-26  126.00  134.24  125.8900  134.18  39723370\n",
       "2018-12-27  132.44  134.99  129.6700  134.52  31202509\n",
       "2018-12-28  135.34  135.92  132.2000  133.20  22627569\n",
       "2018-12-31  134.45  134.64  129.9500  131.09  24625308\n",
       "\n",
       "[251 rows x 5 columns]"
      ]
     },
     "execution_count": 1,
     "metadata": {},
     "output_type": "execute_result"
    }
   ],
   "source": [
    "# import required libraries\n",
    "%matplotlib inline\n",
    "import matplotlib.pyplot as plt\n",
    "import numpy as np\n",
    "import pandas as pd\n",
    "\n",
    "# Load the dataset\n",
    "fb = pd.read_csv('fb_stock_prices_2018.csv', index_col = 'date',  parse_dates=True)\n",
    "fb"
   ]
  },
  {
   "cell_type": "markdown",
   "metadata": {
    "deletable": false,
    "editable": false,
    "nbgrader": {
     "cell_type": "markdown",
     "checksum": "8f6e04f7aaadbbf2514496088cf26ae5",
     "grade": false,
     "grade_id": "cell-73f81b81f69a8a4e",
     "locked": true,
     "schema_version": 3,
     "solution": false,
     "task": false
    }
   },
   "source": [
    "#### 1. Create a box plot of Facebook volume and closing prices and draw reference lines for the bounds of a Turkey fence with a multiplier of 1.5. The bounds will be Q1 – 1.5 * IQR and Q3 + 1.5 * IQR. Be sure to use the quantile() method on the data to make this easier. (30 Points)"
   ]
  },
  {
   "cell_type": "markdown",
   "metadata": {
    "deletable": false,
    "editable": false,
    "nbgrader": {
     "cell_type": "markdown",
     "checksum": "e1dc2a7fb2351a1f653c21f65d3bd0b1",
     "grade": false,
     "grade_id": "cell-4900427760482561",
     "locked": true,
     "schema_version": 3,
     "solution": false,
     "task": false
    }
   },
   "source": [
    "##### a. Select the 'volume' and 'close' columns from the 'fb' dataset and create a subset. (5 Points)"
   ]
  },
  {
   "cell_type": "code",
   "execution_count": 2,
   "metadata": {
    "deletable": false,
    "nbgrader": {
     "cell_type": "code",
     "checksum": "28beb4a08ce845598a18973d796aa17d",
     "grade": false,
     "grade_id": "cell-43745f89f07295c8",
     "locked": false,
     "schema_version": 3,
     "solution": true,
     "task": false
    }
   },
   "outputs": [],
   "source": [
    "# GRADED Task 1a: Please add your code below in the `your code here` sections\n",
    "# Please store your data in `subset_1a` provided below, and do not remove or modify this value.\n",
    "\n",
    "# Select the 'volume' and 'close' columns from the 'fb' dataset and create a subset 'subset_1a',\n",
    "subset_1a = fb[['volume','close']]\n",
    "\n"
   ]
  },
  {
   "cell_type": "code",
   "execution_count": 3,
   "metadata": {
    "deletable": false,
    "editable": false,
    "nbgrader": {
     "cell_type": "code",
     "checksum": "78b3942c88372f04a848b2b63d2c32ff",
     "grade": true,
     "grade_id": "cell-ea341f8d46dd3d79",
     "locked": true,
     "points": 5,
     "schema_version": 3,
     "solution": false,
     "task": false
    }
   },
   "outputs": [],
   "source": [
    "# This cell is read-only and includes hidden test cases that will run in autograding for partial points."
   ]
  },
  {
   "cell_type": "markdown",
   "metadata": {
    "deletable": false,
    "editable": false,
    "nbgrader": {
     "cell_type": "markdown",
     "checksum": "9f5b65e4eaafa84a6c6660161efc9c64",
     "grade": false,
     "grade_id": "cell-597230f854685536",
     "locked": true,
     "schema_version": 3,
     "solution": false,
     "task": false
    }
   },
   "source": [
    "##### b. Calculate the 1st and 3rd quartiles (25th and 75th percentiles) for the selected columns. (5 Points)"
   ]
  },
  {
   "cell_type": "code",
   "execution_count": 4,
   "metadata": {
    "deletable": false,
    "nbgrader": {
     "cell_type": "code",
     "checksum": "77502ab209b1bb9226663292cfa83610",
     "grade": false,
     "grade_id": "cell-97518536a7936092",
     "locked": false,
     "schema_version": 3,
     "solution": true,
     "task": false
    }
   },
   "outputs": [],
   "source": [
    "# GRADED Task 1b: Please add your code below in the `your code here` sections\n",
    "# Please store your data in `quantiles` provided below, and do not remove or modify this value.\n",
    "\n",
    "# Calculate the 1st and 3rd quartiles (25th and 75th percentiles) for the selected columns, using your data subset from 1a.\n",
    "quantiles = subset_1a.quantile([0.25, 0.75])\n",
    "\n"
   ]
  },
  {
   "cell_type": "code",
   "execution_count": 5,
   "metadata": {
    "deletable": false,
    "editable": false,
    "nbgrader": {
     "cell_type": "code",
     "checksum": "b28209d7aa3622e5efb94c89db889237",
     "grade": true,
     "grade_id": "cell-58eb8e5327a3c656",
     "locked": true,
     "points": 5,
     "schema_version": 3,
     "solution": false,
     "task": false
    }
   },
   "outputs": [],
   "source": [
    "# This cell is read-only and includes hidden test cases that will run in autograding for partial points."
   ]
  },
  {
   "cell_type": "markdown",
   "metadata": {
    "deletable": false,
    "editable": false,
    "nbgrader": {
     "cell_type": "markdown",
     "checksum": "ea82dee444d7fad7fe929feea1406b67",
     "grade": false,
     "grade_id": "cell-880842bf20a915f8",
     "locked": true,
     "schema_version": 3,
     "solution": false,
     "task": false
    }
   },
   "source": [
    "##### c. Calculate the Interquartile Range (IQR) for each column and store it as 'iqr' in the quantiles DataFrame. (5 Points)"
   ]
  },
  {
   "cell_type": "code",
   "execution_count": 6,
   "metadata": {
    "deletable": false,
    "nbgrader": {
     "cell_type": "code",
     "checksum": "4e4690b7de5b0d521b8a0e4fd4185ce8",
     "grade": false,
     "grade_id": "cell-e68c7f7b11025fce",
     "locked": false,
     "schema_version": 3,
     "solution": true,
     "task": false
    }
   },
   "outputs": [
    {
     "name": "stdout",
     "output_type": "stream",
     "text": [
      "          volume    close\n",
      "0.25  17828394.0  157.915\n",
      "0.75  30313840.0  185.270\n",
      "iqr   12485446.0   27.355\n"
     ]
    }
   ],
   "source": [
    "# GRADED Task 1c: Please add your code below in the `your code here` sections\n",
    "# Please store your the IQR in `iqr` within your \"quantiles\" dataframe and do not remove or modify this value.\n",
    "\n",
    "# Calculate the Interquartile Range (IQR) for each column and store it as 'iqr' in the quantiles DataFrame.\n",
    "quantiles.loc['iqr'] = quantiles.loc[0.75] - quantiles.loc[0.25]\n",
    "\n",
    "print(quantiles)\n",
    "\n"
   ]
  },
  {
   "cell_type": "code",
   "execution_count": 7,
   "metadata": {
    "deletable": false,
    "editable": false,
    "nbgrader": {
     "cell_type": "code",
     "checksum": "17cba9213487016785d08b9057d99c45",
     "grade": true,
     "grade_id": "cell-4386330fb26966ae",
     "locked": true,
     "points": 5,
     "schema_version": 3,
     "solution": false,
     "task": false
    }
   },
   "outputs": [],
   "source": [
    "# This cell is read-only and includes hidden test cases that will run in autograding for partial points."
   ]
  },
  {
   "cell_type": "markdown",
   "metadata": {
    "deletable": false,
    "editable": false,
    "nbgrader": {
     "cell_type": "markdown",
     "checksum": "dd3d8cf9683d996779a6528cfbf2f046",
     "grade": false,
     "grade_id": "cell-d9589ee60c8b4e74",
     "locked": true,
     "schema_version": 3,
     "solution": false,
     "task": false
    }
   },
   "source": [
    "##### d. Create a box plot with the following customizations:  (15 Points)\n",
    "* Set the fig size to 8 by 3.\n",
    "* Title the subplots as 'Volume Traded' and 'Closing Price'."
   ]
  },
  {
   "cell_type": "code",
   "execution_count": 9,
   "metadata": {
    "deletable": false,
    "nbgrader": {
     "cell_type": "code",
     "checksum": "d47c8c954adb8699b4c38bbd14f99ae6",
     "grade": false,
     "grade_id": "cell-11439154196d5f54",
     "locked": false,
     "schema_version": 3,
     "solution": true,
     "task": false
    }
   },
   "outputs": [
    {
     "data": {
      "image/png": "[encoded data removed]",
      "text/plain": [
       "<Figure size 576x216 with 2 Axes>"
      ]
     },
     "metadata": {
      "needs_background": "light"
     },
     "output_type": "display_data"
    }
   ],
   "source": [
    "# GRADED Task 1d: Please add your code below in the `your code here` sections\n",
    "\n",
    "# Create a box plot for each column in subset_1a, displayed as subplots, with a specified figure size and titles.\n",
    "# store this in \"task_1_plot\" below and please do not change the variable name.\n",
    "\n",
    "fig, axes = plt.subplots(1,2,figsize=(8,3))\n",
    "\n",
    "axes[0].boxplot(subset_1a['volume'])\n",
    "axes[0].set_title('Volume Traded')\n",
    "\n",
    "axes[1].boxplot(subset_1a['close'])\n",
    "axes[1].set_title('Closing Price')\n",
    "\n",
    "# Iterate through each subplot and add Tukey Fence bounds (outlier boundaries) as dashed red lines.\n",
    "\n",
    "for i, col in enumerate(['volume', 'close']):\n",
    "    # Get Q1, Q3, and IQR for the current column\n",
    "    q1 = quantiles.loc[0.25, col]\n",
    "    q3 = quantiles.loc[0.75, col]\n",
    "    iqr = quantiles.loc['iqr', col]\n",
    "    \n",
    "    # Calculate Tukey Fence bounds\n",
    "    lower_bound = q1 - 1.5 * iqr\n",
    "    upper_bound = q3 + 1.5 * iqr\n",
    "    \n",
    "    # Add dashed red lines for Tukey Fence bounds\n",
    "    axes[i].axhline(y=lower_bound, color='red', linestyle='--', linewidth=1, label='Tukey Fence')\n",
    "    axes[i].axhline(y=upper_bound, color='red', linestyle='--', linewidth=1)\n",
    "\n",
    "# Set the super title for the entire plot.\n",
    "fig.suptitle('Facebook Stock Data Analysis - Box Plots with Tukey Fence Bounds')\n",
    "task_1_plot = fig\n",
    "\n",
    "# Display the plot.\n",
    "plt.tight_layout()\n",
    "plt.show()\n",
    "\n",
    "\n"
   ]
  },
  {
   "cell_type": "code",
   "execution_count": 10,
   "metadata": {
    "deletable": false,
    "editable": false,
    "nbgrader": {
     "cell_type": "code",
     "checksum": "d988c7022cbadeea376bb90d6c455d4f",
     "grade": true,
     "grade_id": "cell-232886d079d166ef",
     "locked": true,
     "points": 10,
     "schema_version": 3,
     "solution": false,
     "task": false
    }
   },
   "outputs": [],
   "source": [
    "# This cell is read-only and includes hidden test cases that will run in autograding for partial points."
   ]
  },
  {
   "cell_type": "code",
   "execution_count": 11,
   "metadata": {
    "deletable": false,
    "editable": false,
    "nbgrader": {
     "cell_type": "code",
     "checksum": "7e9362c616940c1c1c5c92e05c24c1b5",
     "grade": true,
     "grade_id": "cell-7006a203862d0d93",
     "locked": true,
     "points": 5,
     "schema_version": 3,
     "solution": false,
     "task": false
    }
   },
   "outputs": [],
   "source": [
    "# This cell is read-only and includes hidden test cases that will run in autograding for partial points."
   ]
  },
  {
   "cell_type": "markdown",
   "metadata": {
    "deletable": false,
    "editable": false,
    "nbgrader": {
     "cell_type": "markdown",
     "checksum": "d43814ddf5f2059fdaae9aa118e8a994",
     "grade": false,
     "grade_id": "cell-7bfd3c33853b9a21",
     "locked": true,
     "schema_version": 3,
     "solution": false,
     "task": false
    }
   },
   "source": [
    "### 2. Fill in the area between the bounds in the plot from Step 1 (30 Points)\n",
    " "
   ]
  },
  {
   "cell_type": "markdown",
   "metadata": {
    "deletable": false,
    "editable": false,
    "nbgrader": {
     "cell_type": "markdown",
     "checksum": "38c771064a48a392dc76767d95262952",
     "grade": false,
     "grade_id": "cell-f421a68470900551",
     "locked": true,
     "schema_version": 3,
     "solution": false,
     "task": false
    }
   },
   "source": [
    "##### a. Select the 'volume' and 'close' columns from the 'fb' dataset and create a subset called subset_2. (5 Points)"
   ]
  },
  {
   "cell_type": "code",
   "execution_count": 12,
   "metadata": {
    "deletable": false,
    "nbgrader": {
     "cell_type": "code",
     "checksum": "74086412ea670256d373813c56a3b56b",
     "grade": false,
     "grade_id": "cell-2baaf06afd2768d2",
     "locked": false,
     "schema_version": 3,
     "solution": true,
     "task": false
    }
   },
   "outputs": [],
   "source": [
    "# GRADED Task 2a: Please add your code below in the `your code here` sections\n",
    "# Please store your data in `subset_2` provided below, and do not remove or modify this value.\n",
    "\n",
    "subset_2 = fb[['volume','close']]\n",
    "\n"
   ]
  },
  {
   "cell_type": "code",
   "execution_count": 13,
   "metadata": {
    "deletable": false,
    "editable": false,
    "nbgrader": {
     "cell_type": "code",
     "checksum": "417150ea2ea49229b2362929d8f4b79b",
     "grade": true,
     "grade_id": "cell-971f099965809cdc",
     "locked": true,
     "points": 5,
     "schema_version": 3,
     "solution": false,
     "task": false
    }
   },
   "outputs": [],
   "source": [
    "# This cell is read-only and includes hidden test cases that will run in autograding for partial points."
   ]
  },
  {
   "cell_type": "markdown",
   "metadata": {
    "deletable": false,
    "editable": false,
    "nbgrader": {
     "cell_type": "markdown",
     "checksum": "bba10ef13aa8503d2b66a41dbf8a2560",
     "grade": false,
     "grade_id": "cell-63128ba5b6ccf911",
     "locked": true,
     "schema_version": 3,
     "solution": false,
     "task": false
    }
   },
   "source": [
    "##### b. Calculate the 1st and 3rd quartiles (25th and 75th percentiles) for the selected columns. (5 Points) "
   ]
  },
  {
   "cell_type": "code",
   "execution_count": 14,
   "metadata": {
    "deletable": false,
    "nbgrader": {
     "cell_type": "code",
     "checksum": "358ead413cc0c32eaab33568c7d01752",
     "grade": false,
     "grade_id": "cell-bd75c4437c00d5b0",
     "locked": false,
     "schema_version": 3,
     "solution": true,
     "task": false
    }
   },
   "outputs": [],
   "source": [
    "# GRADED Task 2b: Please add your code below in the `your code here` sections\n",
    "# Please store your data in quantiles_2 provided below, and do not remove or modify this value.eds to be auto-graded\n",
    "\n",
    "# Calculate the 1st and 3rd quartiles (25th and 75th percentiles) for the selected columns.\n",
    "quantiles_2 = subset_2.quantile([0.25,0.75])\n",
    "\n"
   ]
  },
  {
   "cell_type": "code",
   "execution_count": 15,
   "metadata": {
    "deletable": false,
    "editable": false,
    "nbgrader": {
     "cell_type": "code",
     "checksum": "1205c3197f1fcbf7d0cc524bf5a84f14",
     "grade": true,
     "grade_id": "cell-e3e355683d3caed8",
     "locked": true,
     "points": 5,
     "schema_version": 3,
     "solution": false,
     "task": false
    }
   },
   "outputs": [],
   "source": [
    "# This cell is read-only and includes hidden test cases that will run in autograding for partial points."
   ]
  },
  {
   "cell_type": "markdown",
   "metadata": {
    "deletable": false,
    "editable": false,
    "nbgrader": {
     "cell_type": "markdown",
     "checksum": "6a6e308fa7217da19ddbff38bd5b755e",
     "grade": false,
     "grade_id": "cell-1ec9561419d69f55",
     "locked": true,
     "schema_version": 3,
     "solution": false,
     "task": false
    }
   },
   "source": [
    "##### c. Calculate the Interquartile Range (IQR) for each column and store it as 'iqr' in the quantiles_2 DataFrame (5 Points)"
   ]
  },
  {
   "cell_type": "code",
   "execution_count": 16,
   "metadata": {
    "deletable": false,
    "nbgrader": {
     "cell_type": "code",
     "checksum": "e5b0c4e112328769305c5a1b3e42244e",
     "grade": false,
     "grade_id": "cell-1538b0a86b00da1b",
     "locked": false,
     "schema_version": 3,
     "solution": true,
     "task": false
    }
   },
   "outputs": [],
   "source": [
    "# GRADED Task 2c: Please add your code below in the `your code here` sections\n",
    "# Please store your data in `iqr` provided below, and do not remove or modify this value.\n",
    "\n",
    "# Calculate the Interquartile Range (IQR) for each column and store it as 'iqr' in the quantiles_2 DataFrame.\n",
    "quantiles_2.loc['iqr'] = quantiles_2.loc[0.75] - quantiles_2.loc[0.25]\n",
    "\n"
   ]
  },
  {
   "cell_type": "code",
   "execution_count": 17,
   "metadata": {
    "deletable": false,
    "editable": false,
    "nbgrader": {
     "cell_type": "code",
     "checksum": "0598ebe4ad010a4ae546b03ff5000977",
     "grade": true,
     "grade_id": "cell-86563a7b1a8cfcab",
     "locked": true,
     "points": 5,
     "schema_version": 3,
     "solution": false,
     "task": false
    }
   },
   "outputs": [],
   "source": [
    "# This cell is read-only and includes hidden test cases that will run in autograding for partial points."
   ]
  },
  {
   "cell_type": "markdown",
   "metadata": {
    "deletable": false,
    "editable": false,
    "nbgrader": {
     "cell_type": "markdown",
     "checksum": "73d4b93417cd131089acfc1bb8a37a10",
     "grade": false,
     "grade_id": "cell-950624a3595b4b46",
     "locked": true,
     "schema_version": 3,
     "solution": false,
     "task": false
    }
   },
   "source": [
    "##### d. Create a box plot (15 Points)"
   ]
  },
  {
   "cell_type": "code",
   "execution_count": 20,
   "metadata": {
    "deletable": false,
    "nbgrader": {
     "cell_type": "code",
     "checksum": "32017569dce124f1b1e72f17ad87f4bc",
     "grade": false,
     "grade_id": "cell-ecad370e1a1b696d",
     "locked": false,
     "schema_version": 3,
     "solution": true,
     "task": false
    }
   },
   "outputs": [
    {
     "data": {
      "image/png": "[encoded data removed]",
      "text/plain": [
       "<Figure size 576x216 with 2 Axes>"
      ]
     },
     "metadata": {
      "needs_background": "light"
     },
     "output_type": "display_data"
    }
   ],
   "source": [
    "# GRADED Task 2d: Please add your code below in the `your code here` sections\n",
    "\n",
    "# Create a box plot for each column in the subset, displayed as subplots \n",
    "# with a specified figure size and titles.\n",
    "# store this in \"task_2_plot\" below and please do not modify or remove this naming convention.\n",
    "\n",
    "fig, axes = plt.subplots(1, 2, figsize=(8, 3))\n",
    "\n",
    "axes[0].boxplot(subset_2['volume'])\n",
    "axes[0].set_title('Volume Traded')\n",
    "\n",
    "axes[1].boxplot(subset_2['close'])\n",
    "axes[1].set_title('Closing Price')\n",
    "\n",
    "# Iterate through each subplot in axes_2 and add shaded regions between Tukey Fence bounds (outlier boundaries).\n",
    "# Fill the area between x-coordinates 0 and 2 with the color #ff6666.\n",
    "\n",
    "for i, col in enumerate(['volume', 'close']):\n",
    "    \n",
    "    q1 = quantiles_2.loc[0.25, col]\n",
    "    q3 = quantiles_2.loc[0.75, col]\n",
    "    iqr = quantiles_2.loc['iqr', col]\n",
    "    \n",
    "   \n",
    "    lower_bound = q1 - 1.5 * iqr\n",
    "    upper_bound = q3 + 1.5 * iqr\n",
    "    \n",
    "   \n",
    "    axes[i].axvspan(0, 2, alpha=0.3, color='#ff6666', label='Highlighted Region')\n",
    "\n",
    "\n",
    "\n",
    "# Set the super title for the entire plot.\n",
    "fig.suptitle('Facebook Stock Data Analysis - Box Plots with Highlighted Regions')\n",
    "\n",
    "\n",
    "# Set the super title for the entire plot.\n",
    "# your code here\n",
    "\n",
    "task_2_plot = fig\n",
    "# Display the plot.\n",
    "plt.tight_layout()\n",
    "plt.show()\n",
    "\n",
    "\n",
    "\n"
   ]
  },
  {
   "cell_type": "code",
   "execution_count": 21,
   "metadata": {
    "deletable": false,
    "editable": false,
    "nbgrader": {
     "cell_type": "code",
     "checksum": "b4afa779d75296cf95a7bafe60620a50",
     "grade": true,
     "grade_id": "cell-888aebae204de9d5",
     "locked": true,
     "points": 10,
     "schema_version": 3,
     "solution": false,
     "task": false
    }
   },
   "outputs": [],
   "source": [
    "# This cell is read-only and includes hidden test cases that will run in autograding for partial points."
   ]
  },
  {
   "cell_type": "code",
   "execution_count": 22,
   "metadata": {
    "deletable": false,
    "editable": false,
    "nbgrader": {
     "cell_type": "code",
     "checksum": "3c070e0a8787e9ee5422629b91f91d10",
     "grade": true,
     "grade_id": "cell-01b2b071d03eadd5",
     "locked": true,
     "points": 5,
     "schema_version": 3,
     "solution": false,
     "task": false
    }
   },
   "outputs": [],
   "source": [
    "# This cell is read-only and includes hidden test cases that will run in autograding for partial points."
   ]
  },
  {
   "cell_type": "markdown",
   "metadata": {
    "deletable": false,
    "editable": false,
    "nbgrader": {
     "cell_type": "markdown",
     "checksum": "3e8a14a052ef008c347e3955b147e163",
     "grade": false,
     "grade_id": "cell-4325d3dbf47eabfa",
     "locked": true,
     "schema_version": 3,
     "solution": false,
     "task": false
    }
   },
   "source": [
    "### 3. Visualize daily stock price changes for Facebook using a stack plot. (20 Points)\n",
    "#### Customize the stack plot with the following settings:\n",
    "1. Set the figure size to 10 by 6\n",
    "2. Label the x-axis as \"Date\"\n",
    "3. Label the y-axis as \"Stock Price\"\n",
    "4. Set the title as \"Daily Stock Price Changes\"\n",
    "5. Place the legend at the upper right position "
   ]
  },
  {
   "cell_type": "markdown",
   "metadata": {
    "deletable": false,
    "editable": false,
    "nbgrader": {
     "cell_type": "markdown",
     "checksum": "8b4865271d66beb646732844400aa358",
     "grade": false,
     "grade_id": "cell-eddbf88401ee4903",
     "locked": true,
     "schema_version": 3,
     "solution": false,
     "task": false
    }
   },
   "source": [
    "##### a. Extract date and price columns for the stack plot (5 Points)"
   ]
  },
  {
   "cell_type": "code",
   "execution_count": 23,
   "metadata": {
    "deletable": false,
    "nbgrader": {
     "cell_type": "code",
     "checksum": "07503a798d36fca30c876e0b3fc2d9c4",
     "grade": false,
     "grade_id": "cell-7cc5db7a39d07cc0",
     "locked": false,
     "schema_version": 3,
     "solution": true,
     "task": false
    }
   },
   "outputs": [],
   "source": [
    "# GRADED Task 3a: Please add your code below in the `your code here` sections\n",
    "# Please store your data in the variables provided below, and do not remove or modify this value.be auto-graded\n",
    "\n",
    "# Extract date and price columns for the stack plot\n",
    "dates = fb.index\n",
    "open_prices = fb['open']\n",
    "high_prices = fb['high']\n",
    "low_prices = fb['low']\n",
    "close_prices = fb['close']\n",
    "\n"
   ]
  },
  {
   "cell_type": "code",
   "execution_count": 24,
   "metadata": {
    "deletable": false,
    "editable": false,
    "nbgrader": {
     "cell_type": "code",
     "checksum": "829df663da4b5914d5070611f6b9f981",
     "grade": true,
     "grade_id": "cell-3524a6df248dff89",
     "locked": true,
     "points": 5,
     "schema_version": 3,
     "solution": false,
     "task": false
    }
   },
   "outputs": [],
   "source": [
    "# This cell is read-only and includes hidden test cases that will run in autograding for partial points."
   ]
  },
  {
   "cell_type": "markdown",
   "metadata": {
    "deletable": false,
    "editable": false,
    "nbgrader": {
     "cell_type": "markdown",
     "checksum": "d1a31fb5957a24e2a3782713c72ba4a5",
     "grade": false,
     "grade_id": "cell-480089180d436539",
     "locked": true,
     "schema_version": 3,
     "solution": false,
     "task": false
    }
   },
   "source": [
    "##### b. Create the stack plot (15 Points)"
   ]
  },
  {
   "cell_type": "code",
   "execution_count": 27,
   "metadata": {
    "deletable": false,
    "nbgrader": {
     "cell_type": "code",
     "checksum": "f4a6b3cc277797da8eaf5e5ea849a6ab",
     "grade": false,
     "grade_id": "cell-bdd6c92fec12aee6",
     "locked": false,
     "schema_version": 3,
     "solution": true,
     "task": false
    }
   },
   "outputs": [
    {
     "data": {
      "image/png": "[encoded data removed]",
      "text/plain": [
       "<Figure size 720x432 with 1 Axes>"
      ]
     },
     "metadata": {
      "needs_background": "light"
     },
     "output_type": "display_data"
    }
   ],
   "source": [
    "# GRADED Task 3b: Please add your code below in the `your code here` sections\n",
    "# Please store your data in 'task_3_plot` provided below, and do not remove or modify this value.\n",
    "\n",
    "fig, ax = plt.subplots(figsize=(10, 6))\n",
    "ax.stackplot(fb.index, open_prices, high_prices, \n",
    "             low_prices, close_prices, \n",
    "             labels=['Open Change', 'High Change', 'Low Change', 'Close Change'], \n",
    "             alpha=0.8)\n",
    "\n",
    "# Add any additional plot modifiers here\n",
    "ax.set_xlabel('Date')\n",
    "ax.set_ylabel('Stock Price')\n",
    "ax.set_title('Daily Stock Price Changes')\n",
    "ax.legend(loc='upper right')\n",
    "\n",
    "task_3_plot = fig\n",
    "# Display the stack plot\n",
    "plt.tight_layout()\n",
    "plt.show()\n",
    "\n"
   ]
  },
  {
   "cell_type": "code",
   "execution_count": 28,
   "metadata": {
    "deletable": false,
    "editable": false,
    "nbgrader": {
     "cell_type": "code",
     "checksum": "f02d6f3cbcb90912a2f6947e2b4a1141",
     "grade": true,
     "grade_id": "cell-47f30cb88e0aeadf",
     "locked": true,
     "points": 10,
     "schema_version": 3,
     "solution": false,
     "task": false
    }
   },
   "outputs": [],
   "source": [
    "# This cell is read-only and includes hidden test cases that will run in autograding for partial points."
   ]
  },
  {
   "cell_type": "code",
   "execution_count": 29,
   "metadata": {
    "deletable": false,
    "editable": false,
    "nbgrader": {
     "cell_type": "code",
     "checksum": "ea7c2b890c6f96312be5285698bd483e",
     "grade": true,
     "grade_id": "cell-eda5247e20d900ec",
     "locked": true,
     "points": 5,
     "schema_version": 3,
     "solution": false,
     "task": false
    }
   },
   "outputs": [],
   "source": [
    "# This cell is read-only and includes hidden test cases that will run in autograding for partial points."
   ]
  },
  {
   "cell_type": "markdown",
   "metadata": {
    "deletable": false,
    "editable": false,
    "nbgrader": {
     "cell_type": "markdown",
     "checksum": "3c938f3804a5cebfb2d8f09da7a96e89",
     "grade": false,
     "grade_id": "cell-d1e2267129b5db2e",
     "locked": true,
     "schema_version": 3,
     "solution": false,
     "task": false
    }
   },
   "source": [
    "### 4. Create a Pearson Correlation Heatmap and customize it by using the 'viridis' colormap. Label the axes with the column names of the correlation matrix, display the correlation values within the cells, include a color bar, and set the title as \"Pearson Correlation Heatmap\" with visible font sizes for user clarity and define the color range from -1 (minimum correlation) to 1 (maximum correlation). (20 Points)"
   ]
  },
  {
   "cell_type": "markdown",
   "metadata": {
    "deletable": false,
    "editable": false,
    "nbgrader": {
     "cell_type": "markdown",
     "checksum": "4ab22b3f0788c2c42aa6c5c870b655f8",
     "grade": false,
     "grade_id": "cell-d1d026cad5f4da26",
     "locked": true,
     "schema_version": 3,
     "solution": false,
     "task": false
    }
   },
   "source": [
    "##### a. Calculate the Pearson correlation (5 Points)"
   ]
  },
  {
   "cell_type": "code",
   "execution_count": 30,
   "metadata": {
    "deletable": false,
    "nbgrader": {
     "cell_type": "code",
     "checksum": "85a046b819515ca25a104bf3bb3de227",
     "grade": false,
     "grade_id": "cell-3d92ac8ac8fb0109",
     "locked": false,
     "schema_version": 3,
     "solution": true,
     "task": false
    }
   },
   "outputs": [],
   "source": [
    "# GRADED Task 4a: Please add your code below in the `your code here` sections\n",
    "# Please store your data in `pearson_corr` provided below, and do not remove or modify this value.\n",
    "\n",
    "# Calculate the Pearson correlation on on the original fb dataframe\n",
    "pearson_corr =  fb[['open', 'high', 'low', 'close', 'volume']].corr()\n",
    "\n"
   ]
  },
  {
   "cell_type": "code",
   "execution_count": 31,
   "metadata": {
    "deletable": false,
    "editable": false,
    "nbgrader": {
     "cell_type": "code",
     "checksum": "90d638a450569dc543264fdc3baed323",
     "grade": true,
     "grade_id": "cell-83ecfb3188bbab90",
     "locked": true,
     "points": 5,
     "schema_version": 3,
     "solution": false,
     "task": false
    }
   },
   "outputs": [],
   "source": [
    "# This cell is read-only and includes hidden test cases that will run in autograding for partial points."
   ]
  },
  {
   "cell_type": "markdown",
   "metadata": {
    "deletable": false,
    "editable": false,
    "nbgrader": {
     "cell_type": "markdown",
     "checksum": "72522d3e137ccfa7a5819d683629c252",
     "grade": false,
     "grade_id": "cell-e80d2365a30b66e1",
     "locked": true,
     "schema_version": 3,
     "solution": false,
     "task": false
    }
   },
   "source": [
    "##### b. Plot the heatmap using the viridis color map  (15 Points)"
   ]
  },
  {
   "cell_type": "code",
   "execution_count": 33,
   "metadata": {
    "deletable": false,
    "nbgrader": {
     "cell_type": "code",
     "checksum": "82603306d9989bef7223cd3f71e8d675",
     "grade": false,
     "grade_id": "cell-578270c14c805ac6",
     "locked": false,
     "schema_version": 3,
     "solution": true,
     "task": false
    }
   },
   "outputs": [
    {
     "data": {
      "image/png": "[encoded data removed]",
      "text/plain": [
       "<Figure size 720x576 with 2 Axes>"
      ]
     },
     "metadata": {
      "needs_background": "light"
     },
     "output_type": "display_data"
    }
   ],
   "source": [
    "# GRADED Task 4b: Please add your code below in the `your code here` sections\n",
    "# Please do not modify pre-provided values or variable names.\n",
    "\n",
    "# Create a figure named fig3 and and axes named ax\n",
    "fig3, ax = plt.subplots(figsize=(10, 8))\n",
    "\n",
    "# Create a heatmap and store in 'heatmap' using the 'viridis' colormap\n",
    "# Add values in the cells\n",
    "heatmap = ax.imshow(pearson_corr, cmap='viridis', vmin=-1, vmax=1, aspect='auto')\n",
    "\n",
    "for i in range(len(pearson_corr.columns)):\n",
    "    for j in range(len(pearson_corr.columns)):\n",
    "        text = ax.text(j, i, f'{pearson_corr.iloc[i, j]:.2f}',\n",
    "                      ha=\"center\", va=\"center\", color=\"white\", fontsize=12)\n",
    "\n",
    "# Set y-axis labels and fontsize\n",
    "ax.set_title('Pearson Correlation Heatmap', fontsize=16, fontweight='bold')\n",
    "ax.set_xlabel('Features', fontsize=12)\n",
    "ax.set_ylabel('Features', fontsize=12)\n",
    "\n",
    "# Set x-axis labels and fontsize\n",
    "ax.set_xticks(range(len(pearson_corr.columns)))\n",
    "ax.set_yticks(range(len(pearson_corr.columns)))\n",
    "ax.set_xticklabels(pearson_corr.columns, rotation=45, ha='right')\n",
    "ax.set_yticklabels(pearson_corr.columns)\n",
    "\n",
    "\n",
    "\n",
    "# Create a color bar\n",
    "cbar = plt.colorbar(heatmap, ax=ax)\n",
    "cbar.set_label('Correlation Coefficient', rotation=270, labelpad=20)\n",
    "\n",
    "# Set the title and fontsize\n",
    "ax.set_title('Pearson Correlation Heatmap', fontsize=16)\n",
    "\n",
    "# Display the heatmap\n",
    "plt.tight_layout()\n",
    "plt.show()\n",
    "\n"
   ]
  },
  {
   "cell_type": "code",
   "execution_count": 34,
   "metadata": {
    "deletable": false,
    "editable": false,
    "nbgrader": {
     "cell_type": "code",
     "checksum": "7b90d7c0a773164da6bab1e9b2f3ac8e",
     "grade": true,
     "grade_id": "cell-4bd765259a7f72e5",
     "locked": true,
     "points": 10,
     "schema_version": 3,
     "solution": false,
     "task": false
    }
   },
   "outputs": [],
   "source": [
    "# This cell is read-only and includes hidden test cases that will run in autograding for partial points."
   ]
  },
  {
   "cell_type": "code",
   "execution_count": 35,
   "metadata": {
    "deletable": false,
    "editable": false,
    "nbgrader": {
     "cell_type": "code",
     "checksum": "45efe7c4a750366fe1f32b6f38e96a62",
     "grade": true,
     "grade_id": "cell-c4da81fe1c72a885",
     "locked": true,
     "points": 5,
     "schema_version": 3,
     "solution": false,
     "task": false
    }
   },
   "outputs": [],
   "source": [
    "# This cell is read-only and includes hidden test cases that will run in autograding for partial points."
   ]
  },
  {
   "cell_type": "code",
   "execution_count": null,
   "metadata": {},
   "outputs": [],
   "source": []
  }
 ],
 "metadata": {
  "kernelspec": {
   "display_name": "Python 3",
   "language": "python",
   "name": "python3"
  },
  "language_info": {
   "codemirror_mode": {
    "name": "ipython",
    "version": 3
   },
   "file_extension": ".py",
   "mimetype": "text/x-python",
   "name": "python",
   "nbconvert_exporter": "python",
   "pygments_lexer": "ipython3",
   "version": "3.7.6"
  }
 },
 "nbformat": 4,
 "nbformat_minor": 5
}
