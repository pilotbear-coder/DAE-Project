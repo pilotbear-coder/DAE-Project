{
 "cells": [
  {
   "cell_type": "code",
   "execution_count": 1,
   "id": "1b431654",
   "metadata": {},
   "outputs": [],
   "source": [
    "import numpy as np\n",
    "import pandas as pd"
   ]
  },
  {
   "cell_type": "code",
   "execution_count": 2,
   "id": "f2af2c84",
   "metadata": {},
   "outputs": [
    {
     "name": "stdout",
     "output_type": "stream",
     "text": [
      "Collecting shap\n",
      "  Downloading shap-0.48.0-cp313-cp313-macosx_11_0_arm64.whl.metadata (25 kB)\n",
      "Requirement already satisfied: numpy in /Users/wilco/DAE Projects/.venv/lib/python3.13/site-packages (from shap) (2.3.1)\n",
      "Requirement already satisfied: scipy in /Users/wilco/DAE Projects/.venv/lib/python3.13/site-packages (from shap) (1.16.0)\n",
      "Requirement already satisfied: scikit-learn in /Users/wilco/DAE Projects/.venv/lib/python3.13/site-packages (from shap) (1.7.0)\n",
      "Requirement already satisfied: pandas in /Users/wilco/DAE Projects/.venv/lib/python3.13/site-packages (from shap) (2.3.0)\n",
      "Collecting tqdm>=4.27.0 (from shap)\n",
      "  Using cached tqdm-4.67.1-py3-none-any.whl.metadata (57 kB)\n",
      "Requirement already satisfied: packaging>20.9 in /Users/wilco/DAE Projects/.venv/lib/python3.13/site-packages (from shap) (25.0)\n",
      "Collecting slicer==0.0.8 (from shap)\n",
      "  Downloading slicer-0.0.8-py3-none-any.whl.metadata (4.0 kB)\n",
      "Collecting numba>=0.54 (from shap)\n",
      "  Downloading numba-0.61.2-cp313-cp313-macosx_11_0_arm64.whl.metadata (2.7 kB)\n",
      "Collecting cloudpickle (from shap)\n",
      "  Downloading cloudpickle-3.1.1-py3-none-any.whl.metadata (7.1 kB)\n",
      "Collecting typing-extensions (from shap)\n",
      "  Downloading typing_extensions-4.14.1-py3-none-any.whl.metadata (3.0 kB)\n",
      "Collecting llvmlite<0.45,>=0.44.0dev0 (from numba>=0.54->shap)\n",
      "  Downloading llvmlite-0.44.0-cp313-cp313-macosx_11_0_arm64.whl.metadata (4.8 kB)\n",
      "Collecting numpy (from shap)\n",
      "  Downloading numpy-2.2.6-cp313-cp313-macosx_14_0_arm64.whl.metadata (62 kB)\n",
      "Requirement already satisfied: python-dateutil>=2.8.2 in /Users/wilco/DAE Projects/.venv/lib/python3.13/site-packages (from pandas->shap) (2.9.0.post0)\n",
      "Requirement already satisfied: pytz>=2020.1 in /Users/wilco/DAE Projects/.venv/lib/python3.13/site-packages (from pandas->shap) (2025.2)\n",
      "Requirement already satisfied: tzdata>=2022.7 in /Users/wilco/DAE Projects/.venv/lib/python3.13/site-packages (from pandas->shap) (2025.2)\n",
      "Requirement already satisfied: six>=1.5 in /Users/wilco/DAE Projects/.venv/lib/python3.13/site-packages (from python-dateutil>=2.8.2->pandas->shap) (1.17.0)\n",
      "Requirement already satisfied: joblib>=1.2.0 in /Users/wilco/DAE Projects/.venv/lib/python3.13/site-packages (from scikit-learn->shap) (1.5.1)\n",
      "Requirement already satisfied: threadpoolctl>=3.1.0 in /Users/wilco/DAE Projects/.venv/lib/python3.13/site-packages (from scikit-learn->shap) (3.6.0)\n",
      "Downloading shap-0.48.0-cp313-cp313-macosx_11_0_arm64.whl (546 kB)\n",
      "\u001b[2K   \u001b[90m━━━━━━━━━━━━━━━━━━━━━━━━━━━━━━━━━━━━━━━━\u001b[0m \u001b[32m546.8/546.8 kB\u001b[0m \u001b[31m12.9 MB/s\u001b[0m eta \u001b[36m0:00:00\u001b[0m\n",
      "\u001b[?25hDownloading slicer-0.0.8-py3-none-any.whl (15 kB)\n",
      "Downloading numba-0.61.2-cp313-cp313-macosx_11_0_arm64.whl (2.8 MB)\n",
      "\u001b[2K   \u001b[90m━━━━━━━━━━━━━━━━━━━━━━━━━━━━━━━━━━━━━━━━\u001b[0m \u001b[32m2.8/2.8 MB\u001b[0m \u001b[31m22.6 MB/s\u001b[0m eta \u001b[36m0:00:00\u001b[0m\n",
      "\u001b[?25hDownloading llvmlite-0.44.0-cp313-cp313-macosx_11_0_arm64.whl (26.2 MB)\n",
      "\u001b[2K   \u001b[90m━━━━━━━━━━━━━━━━━━━━━━━━━━━━━━━━━━━━━━━━\u001b[0m \u001b[32m26.2/26.2 MB\u001b[0m \u001b[31m37.3 MB/s\u001b[0m eta \u001b[36m0:00:00\u001b[0ma \u001b[36m0:00:01\u001b[0m\n",
      "\u001b[?25hDownloading numpy-2.2.6-cp313-cp313-macosx_14_0_arm64.whl (5.1 MB)\n",
      "\u001b[2K   \u001b[90m━━━━━━━━━━━━━━━━━━━━━━━━━━━━━━━━━━━━━━━━\u001b[0m \u001b[32m5.1/5.1 MB\u001b[0m \u001b[31m43.1 MB/s\u001b[0m eta \u001b[36m0:00:00\u001b[0m\n",
      "\u001b[?25hUsing cached tqdm-4.67.1-py3-none-any.whl (78 kB)\n",
      "Downloading cloudpickle-3.1.1-py3-none-any.whl (20 kB)\n",
      "Downloading typing_extensions-4.14.1-py3-none-any.whl (43 kB)\n",
      "Installing collected packages: typing-extensions, tqdm, slicer, numpy, llvmlite, cloudpickle, numba, shap\n",
      "\u001b[2K  Attempting uninstall: numpy\n",
      "\u001b[2K    Found existing installation: numpy 2.3.1\n",
      "\u001b[2K    Uninstalling numpy-2.3.1:\n",
      "\u001b[2K      Successfully uninstalled numpy-2.3.1\n",
      "\u001b[2K   \u001b[90m━━━━━━━━━━━━━━━━━━━━━━━━━━━━━━━━━━━━━━━━\u001b[0m \u001b[32m8/8\u001b[0m [shap][32m7/8\u001b[0m [shap]]te]\n",
      "\u001b[1A\u001b[2KSuccessfully installed cloudpickle-3.1.1 llvmlite-0.44.0 numba-0.61.2 numpy-2.2.6 shap-0.48.0 slicer-0.0.8 tqdm-4.67.1 typing-extensions-4.14.1\n",
      "Note: you may need to restart the kernel to use updated packages.\n"
     ]
    }
   ],
   "source": [
    "pip install shap"
   ]
  },
  {
   "cell_type": "code",
   "execution_count": 4,
   "id": "32951147",
   "metadata": {},
   "outputs": [
    {
     "name": "stdout",
     "output_type": "stream",
     "text": [
      "Collecting numpy==2.2.0\n",
      "  Downloading numpy-2.2.0-cp313-cp313-macosx_14_0_arm64.whl.metadata (62 kB)\n",
      "Downloading numpy-2.2.0-cp313-cp313-macosx_14_0_arm64.whl (5.1 MB)\n",
      "\u001b[2K   \u001b[90m━━━━━━━━━━━━━━━━━━━━━━━━━━━━━━━━━━━━━━━━\u001b[0m \u001b[32m5.1/5.1 MB\u001b[0m \u001b[31m17.2 MB/s\u001b[0m eta \u001b[36m0:00:00\u001b[0ma \u001b[36m0:00:01\u001b[0m\n",
      "\u001b[?25hInstalling collected packages: numpy\n",
      "  Attempting uninstall: numpy\n",
      "    Found existing installation: numpy 2.2.6\n",
      "    Uninstalling numpy-2.2.6:\n",
      "      Successfully uninstalled numpy-2.2.6\n",
      "Successfully installed numpy-2.2.0\n",
      "Note: you may need to restart the kernel to use updated packages.\n"
     ]
    }
   ],
   "source": [
    "pip install --force-reinstall numpy==2.2.0"
   ]
  },
  {
   "cell_type": "code",
   "execution_count": 2,
   "id": "065e8322",
   "metadata": {},
   "outputs": [
    {
     "name": "stdout",
     "output_type": "stream",
     "text": [
      "Libraries imported successfully\n"
     ]
    },
    {
     "name": "stderr",
     "output_type": "stream",
     "text": [
      "/Users/wilco/DAE Projects/.venv/lib/python3.13/site-packages/tqdm/auto.py:21: TqdmWarning: IProgress not found. Please update jupyter and ipywidgets. See https://ipywidgets.readthedocs.io/en/stable/user_install.html\n",
      "  from .autonotebook import tqdm as notebook_tqdm\n"
     ]
    }
   ],
   "source": [
    "import matplotlib as plt\n",
    "import seaborn as sns\n",
    "\n",
    "from sklearn.model_selection import train_test_split\n",
    "from sklearn.preprocessing import LabelEncoder\n",
    "from sklearn.ensemble import RandomForestClassifier\n",
    "from sklearn.metrics import accuracy_score, classification_report,confusion_matrix,roc_auc_score\n",
    "\n",
    "import shap\n",
    "\n",
    "sns.set_style('darkgrid')\n",
    "plt.rcParams['figure.figsize'] = (12,8)\n",
    "plt.rcParams['figure.autolayout'] = True\n",
    "\n",
    "print(\"Libraries imported successfully\")\n"
   ]
  },
  {
   "cell_type": "code",
   "execution_count": 5,
   "id": "98bf374b",
   "metadata": {},
   "outputs": [
    {
     "data": {
      "text/html": [
       "<div>\n",
       "<style scoped>\n",
       "    .dataframe tbody tr th:only-of-type {\n",
       "        vertical-align: middle;\n",
       "    }\n",
       "\n",
       "    .dataframe tbody tr th {\n",
       "        vertical-align: top;\n",
       "    }\n",
       "\n",
       "    .dataframe thead th {\n",
       "        text-align: right;\n",
       "    }\n",
       "</style>\n",
       "<table border=\"1\" class=\"dataframe\">\n",
       "  <thead>\n",
       "    <tr style=\"text-align: right;\">\n",
       "      <th></th>\n",
       "      <th>Age</th>\n",
       "      <th>Salt_Intake</th>\n",
       "      <th>Stress_Score</th>\n",
       "      <th>BP_History</th>\n",
       "      <th>Sleep_Duration</th>\n",
       "      <th>BMI</th>\n",
       "      <th>Medication</th>\n",
       "      <th>Family_History</th>\n",
       "      <th>Exercise_Level</th>\n",
       "      <th>Smoking_Status</th>\n",
       "      <th>Has_Hypertension</th>\n",
       "    </tr>\n",
       "  </thead>\n",
       "  <tbody>\n",
       "    <tr>\n",
       "      <th>0</th>\n",
       "      <td>69</td>\n",
       "      <td>8.0</td>\n",
       "      <td>9</td>\n",
       "      <td>Normal</td>\n",
       "      <td>6.4</td>\n",
       "      <td>25.8</td>\n",
       "      <td>NaN</td>\n",
       "      <td>Yes</td>\n",
       "      <td>Low</td>\n",
       "      <td>Non-Smoker</td>\n",
       "      <td>Yes</td>\n",
       "    </tr>\n",
       "    <tr>\n",
       "      <th>1</th>\n",
       "      <td>32</td>\n",
       "      <td>11.7</td>\n",
       "      <td>10</td>\n",
       "      <td>Normal</td>\n",
       "      <td>5.4</td>\n",
       "      <td>23.4</td>\n",
       "      <td>NaN</td>\n",
       "      <td>No</td>\n",
       "      <td>Low</td>\n",
       "      <td>Non-Smoker</td>\n",
       "      <td>No</td>\n",
       "    </tr>\n",
       "    <tr>\n",
       "      <th>2</th>\n",
       "      <td>78</td>\n",
       "      <td>9.5</td>\n",
       "      <td>3</td>\n",
       "      <td>Normal</td>\n",
       "      <td>7.1</td>\n",
       "      <td>18.7</td>\n",
       "      <td>NaN</td>\n",
       "      <td>No</td>\n",
       "      <td>Moderate</td>\n",
       "      <td>Non-Smoker</td>\n",
       "      <td>No</td>\n",
       "    </tr>\n",
       "    <tr>\n",
       "      <th>3</th>\n",
       "      <td>38</td>\n",
       "      <td>10.0</td>\n",
       "      <td>10</td>\n",
       "      <td>Hypertension</td>\n",
       "      <td>4.2</td>\n",
       "      <td>22.1</td>\n",
       "      <td>ACE Inhibitor</td>\n",
       "      <td>No</td>\n",
       "      <td>Low</td>\n",
       "      <td>Non-Smoker</td>\n",
       "      <td>Yes</td>\n",
       "    </tr>\n",
       "    <tr>\n",
       "      <th>4</th>\n",
       "      <td>41</td>\n",
       "      <td>9.8</td>\n",
       "      <td>1</td>\n",
       "      <td>Prehypertension</td>\n",
       "      <td>5.8</td>\n",
       "      <td>16.2</td>\n",
       "      <td>Other</td>\n",
       "      <td>No</td>\n",
       "      <td>Moderate</td>\n",
       "      <td>Non-Smoker</td>\n",
       "      <td>No</td>\n",
       "    </tr>\n",
       "  </tbody>\n",
       "</table>\n",
       "</div>"
      ],
      "text/plain": [
       "   Age  Salt_Intake  Stress_Score       BP_History  Sleep_Duration   BMI  \\\n",
       "0   69          8.0             9           Normal             6.4  25.8   \n",
       "1   32         11.7            10           Normal             5.4  23.4   \n",
       "2   78          9.5             3           Normal             7.1  18.7   \n",
       "3   38         10.0            10     Hypertension             4.2  22.1   \n",
       "4   41          9.8             1  Prehypertension             5.8  16.2   \n",
       "\n",
       "      Medication Family_History Exercise_Level Smoking_Status Has_Hypertension  \n",
       "0            NaN            Yes            Low     Non-Smoker              Yes  \n",
       "1            NaN             No            Low     Non-Smoker               No  \n",
       "2            NaN             No       Moderate     Non-Smoker               No  \n",
       "3  ACE Inhibitor             No            Low     Non-Smoker              Yes  \n",
       "4          Other             No       Moderate     Non-Smoker               No  "
      ]
     },
     "execution_count": 5,
     "metadata": {},
     "output_type": "execute_result"
    }
   ],
   "source": [
    "df = pd.read_csv('hypertension_dataset.csv')\n",
    "df.head()"
   ]
  },
  {
   "cell_type": "code",
   "execution_count": 7,
   "id": "5dded59a",
   "metadata": {},
   "outputs": [
    {
     "name": "stdout",
     "output_type": "stream",
     "text": [
      "<class 'pandas.core.frame.DataFrame'>\n",
      "RangeIndex: 1985 entries, 0 to 1984\n",
      "Data columns (total 11 columns):\n",
      " #   Column            Non-Null Count  Dtype  \n",
      "---  ------            --------------  -----  \n",
      " 0   Age               1985 non-null   int64  \n",
      " 1   Salt_Intake       1985 non-null   float64\n",
      " 2   Stress_Score      1985 non-null   int64  \n",
      " 3   BP_History        1985 non-null   object \n",
      " 4   Sleep_Duration    1985 non-null   float64\n",
      " 5   BMI               1985 non-null   float64\n",
      " 6   Medication        1186 non-null   object \n",
      " 7   Family_History    1985 non-null   object \n",
      " 8   Exercise_Level    1985 non-null   object \n",
      " 9   Smoking_Status    1985 non-null   object \n",
      " 10  Has_Hypertension  1985 non-null   object \n",
      "dtypes: float64(3), int64(2), object(6)\n",
      "memory usage: 170.7+ KB\n"
     ]
    }
   ],
   "source": [
    "df.info()"
   ]
  },
  {
   "cell_type": "code",
   "execution_count": 8,
   "id": "6f37c9ef",
   "metadata": {},
   "outputs": [
    {
     "data": {
      "text/plain": [
       "<bound method NDFrame.describe of       Age  Salt_Intake  Stress_Score       BP_History  Sleep_Duration   BMI  \\\n",
       "0      69          8.0             9           Normal             6.4  25.8   \n",
       "1      32         11.7            10           Normal             5.4  23.4   \n",
       "2      78          9.5             3           Normal             7.1  18.7   \n",
       "3      38         10.0            10     Hypertension             4.2  22.1   \n",
       "4      41          9.8             1  Prehypertension             5.8  16.2   \n",
       "...   ...          ...           ...              ...             ...   ...   \n",
       "1980   56         10.2             0           Normal             6.5  25.0   \n",
       "1981   29          8.9             4     Hypertension             6.9  16.9   \n",
       "1982   64          5.9             9           Normal             5.6  18.9   \n",
       "1983   35          7.4             8  Prehypertension             8.2  29.2   \n",
       "1984   38          7.3             0           Normal             8.3  18.6   \n",
       "\n",
       "         Medication Family_History Exercise_Level Smoking_Status  \\\n",
       "0               NaN            Yes            Low     Non-Smoker   \n",
       "1               NaN             No            Low     Non-Smoker   \n",
       "2               NaN             No       Moderate     Non-Smoker   \n",
       "3     ACE Inhibitor             No            Low     Non-Smoker   \n",
       "4             Other             No       Moderate     Non-Smoker   \n",
       "...             ...            ...            ...            ...   \n",
       "1980       Diuretic            Yes            Low     Non-Smoker   \n",
       "1981            NaN            Yes           High     Non-Smoker   \n",
       "1982  ACE Inhibitor            Yes       Moderate     Non-Smoker   \n",
       "1983            NaN            Yes       Moderate     Non-Smoker   \n",
       "1984            NaN            Yes            Low         Smoker   \n",
       "\n",
       "     Has_Hypertension  \n",
       "0                 Yes  \n",
       "1                  No  \n",
       "2                  No  \n",
       "3                 Yes  \n",
       "4                  No  \n",
       "...               ...  \n",
       "1980              Yes  \n",
       "1981              Yes  \n",
       "1982              Yes  \n",
       "1983               No  \n",
       "1984               No  \n",
       "\n",
       "[1985 rows x 11 columns]>"
      ]
     },
     "execution_count": 8,
     "metadata": {},
     "output_type": "execute_result"
    }
   ],
   "source": [
    "df.describe"
   ]
  }
 ],
 "metadata": {
  "kernelspec": {
   "display_name": ".venv",
   "language": "python",
   "name": "python3"
  },
  "language_info": {
   "codemirror_mode": {
    "name": "ipython",
    "version": 3
   },
   "file_extension": ".py",
   "mimetype": "text/x-python",
   "name": "python",
   "nbconvert_exporter": "python",
   "pygments_lexer": "ipython3",
   "version": "3.13.1"
  }
 },
 "nbformat": 4,
 "nbformat_minor": 5
}
