{
 "cells": [
  {
   "cell_type": "code",
   "execution_count": 1,
   "id": "ccbee3ef",
   "metadata": {},
   "outputs": [
    {
     "data": {
      "text/html": [
       "<div>\n",
       "<style scoped>\n",
       "    .dataframe tbody tr th:only-of-type {\n",
       "        vertical-align: middle;\n",
       "    }\n",
       "\n",
       "    .dataframe tbody tr th {\n",
       "        vertical-align: top;\n",
       "    }\n",
       "\n",
       "    .dataframe thead th {\n",
       "        text-align: right;\n",
       "    }\n",
       "</style>\n",
       "<table border=\"1\" class=\"dataframe\">\n",
       "  <thead>\n",
       "    <tr style=\"text-align: right;\">\n",
       "      <th></th>\n",
       "      <th>country</th>\n",
       "      <th>year</th>\n",
       "      <th>population</th>\n",
       "      <th>continent</th>\n",
       "      <th>life_exp</th>\n",
       "      <th>gdp_cap</th>\n",
       "    </tr>\n",
       "  </thead>\n",
       "  <tbody>\n",
       "    <tr>\n",
       "      <th>0</th>\n",
       "      <td>Afghanistan</td>\n",
       "      <td>1952</td>\n",
       "      <td>8425333</td>\n",
       "      <td>Asia</td>\n",
       "      <td>28.801</td>\n",
       "      <td>779.445314</td>\n",
       "    </tr>\n",
       "    <tr>\n",
       "      <th>1</th>\n",
       "      <td>Afghanistan</td>\n",
       "      <td>1957</td>\n",
       "      <td>9240934</td>\n",
       "      <td>Asia</td>\n",
       "      <td>30.332</td>\n",
       "      <td>820.853030</td>\n",
       "    </tr>\n",
       "    <tr>\n",
       "      <th>2</th>\n",
       "      <td>Afghanistan</td>\n",
       "      <td>1962</td>\n",
       "      <td>10267083</td>\n",
       "      <td>Asia</td>\n",
       "      <td>31.997</td>\n",
       "      <td>853.100710</td>\n",
       "    </tr>\n",
       "    <tr>\n",
       "      <th>3</th>\n",
       "      <td>Afghanistan</td>\n",
       "      <td>1967</td>\n",
       "      <td>11537966</td>\n",
       "      <td>Asia</td>\n",
       "      <td>34.020</td>\n",
       "      <td>836.197138</td>\n",
       "    </tr>\n",
       "    <tr>\n",
       "      <th>4</th>\n",
       "      <td>Afghanistan</td>\n",
       "      <td>1972</td>\n",
       "      <td>13079460</td>\n",
       "      <td>Asia</td>\n",
       "      <td>36.088</td>\n",
       "      <td>739.981106</td>\n",
       "    </tr>\n",
       "  </tbody>\n",
       "</table>\n",
       "</div>"
      ],
      "text/plain": [
       "       country  year  population continent  life_exp     gdp_cap\n",
       "0  Afghanistan  1952     8425333      Asia    28.801  779.445314\n",
       "1  Afghanistan  1957     9240934      Asia    30.332  820.853030\n",
       "2  Afghanistan  1962    10267083      Asia    31.997  853.100710\n",
       "3  Afghanistan  1967    11537966      Asia    34.020  836.197138\n",
       "4  Afghanistan  1972    13079460      Asia    36.088  739.981106"
      ]
     },
     "execution_count": 1,
     "metadata": {},
     "output_type": "execute_result"
    }
   ],
   "source": [
    "import pandas as pd\n",
    "import matplotlib.pyplot as plt\n",
    "\n",
    "# Read the data\n",
    "df = pd.read_csv('gapminder_full.csv')\n",
    "\n",
    "# Display the dataframe\n",
    "df.head()"
   ]
  },
  {
   "cell_type": "markdown",
   "id": "69d4113b",
   "metadata": {},
   "source": [
    "###  Plotting a Violin Plot "
   ]
  },
  {
   "cell_type": "code",
   "execution_count": 2,
   "id": "742c4605",
   "metadata": {},
   "outputs": [
    {
     "data": {
      "image/png": "[encoded data removed]",
      "text/plain": [
       "<Figure size 864x216 with 3 Axes>"
      ]
     },
     "metadata": {
      "needs_background": "light"
     },
     "output_type": "display_data"
    }
   ],
   "source": [
    "# Extracting population, life expectancy, and GDP per capita columns from the DataFrame\n",
    "population = df.population\n",
    "life_exp = df.life_exp\n",
    "gdp_cap = df.gdp_cap\n",
    "\n",
    "# Create subplots with 1 row and 3 columns for violin plots\n",
    "fig, (ax1, ax2, ax3) = plt.subplots(figsize=(12, 3), nrows=1, ncols=3)\n",
    "\n",
    "# Plot violin plot for 'Population' with medians shown\n",
    "ax1.violinplot(population, showmedians=True)\n",
    "ax1.set_title('Population')\n",
    "\n",
    "# Plot violin plot for 'Life Expectancy' with medians shown\n",
    "ax2.violinplot(life_exp, showmedians=True)\n",
    "ax2.set_title('Life Expectancy')\n",
    "\n",
    "# Plot violin plot for 'GDP Per Capita' with medians shown\n",
    "ax3.violinplot(gdp_cap, showmedians=True)\n",
    "ax3.set_title('GDP Per Capita')\n",
    "\n",
    "# Display the violin plots\n",
    "plt.show()\n"
   ]
  },
  {
   "cell_type": "markdown",
   "id": "d8f07be3",
   "metadata": {},
   "source": [
    "### Adding X and Y Ticks "
   ]
  },
  {
   "cell_type": "code",
   "execution_count": 3,
   "id": "688bad57",
   "metadata": {},
   "outputs": [
    {
     "data": {
      "image/png": "[encoded data removed]",
      "text/plain": [
       "<Figure size 432x288 with 1 Axes>"
      ]
     },
     "metadata": {
      "needs_background": "light"
     },
     "output_type": "display_data"
    }
   ],
   "source": [
    "# Extract the 'gdp_cap' column from the DataFrame\n",
    "gdp_cap = df.gdp_cap\n",
    "\n",
    "# Create a subplot for a violin plot\n",
    "fig, ax = plt.subplots()\n",
    "\n",
    "# Plot a violin plot for 'GDP Per Capita' with medians shown\n",
    "ax.violinplot(gdp_cap, showmedians=True)\n",
    "\n",
    "# Set the title for the violin plot\n",
    "ax.set_title('Violin Plot')\n",
    "\n",
    "# Set x-axis ticks and labels for better readability\n",
    "ax.set_xticks([1])\n",
    "ax.set_xticklabels([\"Country GDP\"])\n",
    "\n",
    "# Display the violin plot\n",
    "plt.show()\n"
   ]
  },
  {
   "cell_type": "markdown",
   "id": "2cf79678",
   "metadata": {},
   "source": [
    "### Showing Dataset Means and Medians in Violet Plots"
   ]
  },
  {
   "cell_type": "code",
   "execution_count": 4,
   "id": "304fb80b",
   "metadata": {},
   "outputs": [
    {
     "data": {
      "image/png": "[encoded data removed]",
      "text/plain": [
       "<Figure size 864x216 with 3 Axes>"
      ]
     },
     "metadata": {
      "needs_background": "light"
     },
     "output_type": "display_data"
    }
   ],
   "source": [
    "# Extracting population, life expectancy, and GDP per capita columns from the DataFrame\n",
    "population = df.population\n",
    "life_exp = df.life_exp\n",
    "gdp_cap = df.gdp_cap\n",
    "\n",
    "# Create subplots with 1 row and 3 columns for horizontal violin plots\n",
    "fig, (ax1, ax2, ax3) = plt.subplots(figsize=(12, 3), nrows=1, ncols=3)\n",
    "\n",
    "# Plot horizontal violin plot for 'Population' with medians and means shown\n",
    "ax1.violinplot(population, showmedians=True, showmeans=True, vert=False)\n",
    "ax1.set_title('Population')\n",
    "\n",
    "# Plot horizontal violin plot for 'Life Expectancy' with medians and means shown\n",
    "ax2.violinplot(life_exp, showmedians=True, showmeans=True, vert=False)\n",
    "ax2.set_title('Life Expectancy')\n",
    "\n",
    "# Plot horizontal violin plot for 'GDP Per Capita' with medians and means shown\n",
    "ax3.violinplot(gdp_cap, showmedians=True, showmeans=True, vert=False)\n",
    "ax3.set_title('GDP Per Capita')\n",
    "\n",
    "# Display the horizontal violin plots\n",
    "plt.show()\n"
   ]
  },
  {
   "cell_type": "code",
   "execution_count": null,
   "id": "f77883b4",
   "metadata": {},
   "outputs": [],
   "source": []
  }
 ],
 "metadata": {
  "kernelspec": {
   "display_name": "Python 3 (ipykernel)",
   "language": "python",
   "name": "python3"
  },
  "language_info": {
   "codemirror_mode": {
    "name": "ipython",
    "version": 3
   },
   "file_extension": ".py",
   "mimetype": "text/x-python",
   "name": "python",
   "nbconvert_exporter": "python",
   "pygments_lexer": "ipython3",
   "version": "3.9.12"
  }
 },
 "nbformat": 4,
 "nbformat_minor": 5
}
