{
 "cells": [
  {
   "cell_type": "code",
   "execution_count": 1,
   "id": "49620ac4",
   "metadata": {},
   "outputs": [],
   "source": [
    "import numpy as np\n",
    "import pandas as pd"
   ]
  },
  {
   "cell_type": "code",
   "execution_count": 2,
   "id": "50e9e603",
   "metadata": {},
   "outputs": [
    {
     "data": {
      "text/html": [
       "<div>\n",
       "<style scoped>\n",
       "    .dataframe tbody tr th:only-of-type {\n",
       "        vertical-align: middle;\n",
       "    }\n",
       "\n",
       "    .dataframe tbody tr th {\n",
       "        vertical-align: top;\n",
       "    }\n",
       "\n",
       "    .dataframe thead th {\n",
       "        text-align: right;\n",
       "    }\n",
       "</style>\n",
       "<table border=\"1\" class=\"dataframe\">\n",
       "  <thead>\n",
       "    <tr style=\"text-align: right;\">\n",
       "      <th></th>\n",
       "      <th>AirportName</th>\n",
       "      <th>IATA</th>\n",
       "      <th>ICAO</th>\n",
       "      <th>TimeZone</th>\n",
       "      <th>City_Name</th>\n",
       "      <th>City_IATA</th>\n",
       "      <th>UTC_Offset_Hours</th>\n",
       "      <th>UTC_Offset_Seconds</th>\n",
       "      <th>Country_CodeA2</th>\n",
       "      <th>Country_CodeA3</th>\n",
       "      <th>Country_Name</th>\n",
       "      <th>GeoPointLat</th>\n",
       "      <th>GeoPointLong</th>\n",
       "    </tr>\n",
       "  </thead>\n",
       "  <tbody>\n",
       "    <tr>\n",
       "      <th>0</th>\n",
       "      <td>Pilanesberg Intl</td>\n",
       "      <td>NTY</td>\n",
       "      <td>FAPN</td>\n",
       "      <td>Africa/Johannesburg</td>\n",
       "      <td>Sun City</td>\n",
       "      <td>NTY</td>\n",
       "      <td>2.0</td>\n",
       "      <td>7200.0</td>\n",
       "      <td>ZA</td>\n",
       "      <td>ZAF</td>\n",
       "      <td>South Africa</td>\n",
       "      <td>-25.333822</td>\n",
       "      <td>27.173358</td>\n",
       "    </tr>\n",
       "    <tr>\n",
       "      <th>1</th>\n",
       "      <td>Clovis Muni</td>\n",
       "      <td>CVN</td>\n",
       "      <td>KCVN</td>\n",
       "      <td>America/Denver</td>\n",
       "      <td>Clovis, New Mexico</td>\n",
       "      <td>CVN</td>\n",
       "      <td>-6.0</td>\n",
       "      <td>-21600.0</td>\n",
       "      <td>US</td>\n",
       "      <td>USA</td>\n",
       "      <td>United States of America</td>\n",
       "      <td>34.425139</td>\n",
       "      <td>-103.079278</td>\n",
       "    </tr>\n",
       "    <tr>\n",
       "      <th>2</th>\n",
       "      <td>Cannon Afb</td>\n",
       "      <td>CVS</td>\n",
       "      <td>KCVS</td>\n",
       "      <td>America/Denver</td>\n",
       "      <td>Clovis, New Mexico</td>\n",
       "      <td>CVN</td>\n",
       "      <td>-6.0</td>\n",
       "      <td>-21600.0</td>\n",
       "      <td>US</td>\n",
       "      <td>USA</td>\n",
       "      <td>United States of America</td>\n",
       "      <td>34.382775</td>\n",
       "      <td>-103.322147</td>\n",
       "    </tr>\n",
       "    <tr>\n",
       "      <th>3</th>\n",
       "      <td>Scammon Bay Airport</td>\n",
       "      <td>SCM</td>\n",
       "      <td>PACM</td>\n",
       "      <td>America/Nome</td>\n",
       "      <td>Scammon Bay, Alaska</td>\n",
       "      <td>SCM</td>\n",
       "      <td>-8.0</td>\n",
       "      <td>-28800.0</td>\n",
       "      <td>US</td>\n",
       "      <td>USA</td>\n",
       "      <td>United States of America</td>\n",
       "      <td>61.845278</td>\n",
       "      <td>-165.571389</td>\n",
       "    </tr>\n",
       "    <tr>\n",
       "      <th>4</th>\n",
       "      <td>Kapit</td>\n",
       "      <td>KPI</td>\n",
       "      <td>NaN</td>\n",
       "      <td>Asia/Kuching</td>\n",
       "      <td>Kapit</td>\n",
       "      <td>KPI</td>\n",
       "      <td>8.0</td>\n",
       "      <td>28800.0</td>\n",
       "      <td>MY</td>\n",
       "      <td>MYS</td>\n",
       "      <td>Malaysia</td>\n",
       "      <td>2.017000</td>\n",
       "      <td>112.950000</td>\n",
       "    </tr>\n",
       "  </tbody>\n",
       "</table>\n",
       "</div>"
      ],
      "text/plain": [
       "            AirportName IATA  ICAO             TimeZone            City_Name  \\\n",
       "0      Pilanesberg Intl  NTY  FAPN  Africa/Johannesburg             Sun City   \n",
       "1           Clovis Muni  CVN  KCVN       America/Denver   Clovis, New Mexico   \n",
       "2            Cannon Afb  CVS  KCVS       America/Denver   Clovis, New Mexico   \n",
       "3   Scammon Bay Airport  SCM  PACM         America/Nome  Scammon Bay, Alaska   \n",
       "4  Kapit                 KPI   NaN         Asia/Kuching                Kapit   \n",
       "\n",
       "  City_IATA  UTC_Offset_Hours  UTC_Offset_Seconds Country_CodeA2  \\\n",
       "0       NTY               2.0              7200.0             ZA   \n",
       "1       CVN              -6.0            -21600.0             US   \n",
       "2       CVN              -6.0            -21600.0             US   \n",
       "3       SCM              -8.0            -28800.0             US   \n",
       "4       KPI               8.0             28800.0             MY   \n",
       "\n",
       "  Country_CodeA3              Country_Name  GeoPointLat  GeoPointLong  \n",
       "0            ZAF              South Africa   -25.333822     27.173358  \n",
       "1            USA  United States of America    34.425139   -103.079278  \n",
       "2            USA  United States of America    34.382775   -103.322147  \n",
       "3            USA  United States of America    61.845278   -165.571389  \n",
       "4            MYS                  Malaysia     2.017000    112.950000  "
      ]
     },
     "execution_count": 2,
     "metadata": {},
     "output_type": "execute_result"
    }
   ],
   "source": [
    "dataset = pd.read_csv(\"airports.csv\")\n",
    "dataset.head()"
   ]
  },
  {
   "cell_type": "code",
   "execution_count": 3,
   "id": "86e86363",
   "metadata": {},
   "outputs": [
    {
     "data": {
      "text/plain": [
       "AirportName              0\n",
       "IATA                    20\n",
       "ICAO                  1302\n",
       "TimeZone                88\n",
       "City_Name                0\n",
       "City_IATA               62\n",
       "UTC_Offset_Hours        88\n",
       "UTC_Offset_Seconds      88\n",
       "Country_CodeA2          14\n",
       "Country_CodeA3           0\n",
       "Country_Name             0\n",
       "GeoPointLat              0\n",
       "GeoPointLong             0\n",
       "dtype: int64"
      ]
     },
     "execution_count": 3,
     "metadata": {},
     "output_type": "execute_result"
    }
   ],
   "source": [
    "dataset.isnull().sum()"
   ]
  },
  {
   "cell_type": "code",
   "execution_count": 4,
   "id": "94dd5eef",
   "metadata": {},
   "outputs": [
    {
     "name": "stdout",
     "output_type": "stream",
     "text": [
      "<class 'pandas.core.frame.DataFrame'>\n",
      "RangeIndex: 6393 entries, 0 to 6392\n",
      "Data columns (total 13 columns):\n",
      " #   Column              Non-Null Count  Dtype  \n",
      "---  ------              --------------  -----  \n",
      " 0   AirportName         6393 non-null   object \n",
      " 1   IATA                6373 non-null   object \n",
      " 2   ICAO                5091 non-null   object \n",
      " 3   TimeZone            6305 non-null   object \n",
      " 4   City_Name           6393 non-null   object \n",
      " 5   City_IATA           6331 non-null   object \n",
      " 6   UTC_Offset_Hours    6305 non-null   float64\n",
      " 7   UTC_Offset_Seconds  6305 non-null   float64\n",
      " 8   Country_CodeA2      6379 non-null   object \n",
      " 9   Country_CodeA3      6393 non-null   object \n",
      " 10  Country_Name        6393 non-null   object \n",
      " 11  GeoPointLat         6393 non-null   float64\n",
      " 12  GeoPointLong        6393 non-null   float64\n",
      "dtypes: float64(4), object(9)\n",
      "memory usage: 649.4+ KB\n"
     ]
    }
   ],
   "source": [
    "dataset.info()"
   ]
  },
  {
   "cell_type": "code",
   "execution_count": 5,
   "id": "388491f7",
   "metadata": {},
   "outputs": [
    {
     "name": "stdout",
     "output_type": "stream",
     "text": [
      "(6305, 13)\n"
     ]
    }
   ],
   "source": [
    "airports_map = [\"AirportName\",\"City_Name\",\"Country_Name\",\"TimeZone\",\"GeoPointLat\",\"GeoPointLong\"]\n",
    "airports_map_clean = dataset.dropna(subset = airports_map).copy()\n",
    "print(airports_map_clean.shape)"
   ]
  }
 ],
 "metadata": {
  "kernelspec": {
   "display_name": ".venv",
   "language": "python",
   "name": "python3"
  },
  "language_info": {
   "codemirror_mode": {
    "name": "ipython",
    "version": 3
   },
   "file_extension": ".py",
   "mimetype": "text/x-python",
   "name": "python",
   "nbconvert_exporter": "python",
   "pygments_lexer": "ipython3",
   "version": "3.13.1"
  }
 },
 "nbformat": 4,
 "nbformat_minor": 5
}
