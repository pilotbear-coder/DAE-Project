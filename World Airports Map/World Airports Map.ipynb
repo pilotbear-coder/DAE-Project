{
 "cells": [
  {
   "cell_type": "code",
   "execution_count": 1,
   "id": "49620ac4",
   "metadata": {},
   "outputs": [],
   "source": [
    "import numpy as np\n",
    "import pandas as pd"
   ]
  },
  {
   "cell_type": "code",
   "execution_count": 2,
   "id": "50e9e603",
   "metadata": {},
   "outputs": [
    {
     "data": {
      "text/html": [
       "<div>\n",
       "<style scoped>\n",
       "    .dataframe tbody tr th:only-of-type {\n",
       "        vertical-align: middle;\n",
       "    }\n",
       "\n",
       "    .dataframe tbody tr th {\n",
       "        vertical-align: top;\n",
       "    }\n",
       "\n",
       "    .dataframe thead th {\n",
       "        text-align: right;\n",
       "    }\n",
       "</style>\n",
       "<table border=\"1\" class=\"dataframe\">\n",
       "  <thead>\n",
       "    <tr style=\"text-align: right;\">\n",
       "      <th></th>\n",
       "      <th>AirportName</th>\n",
       "      <th>IATA</th>\n",
       "      <th>ICAO</th>\n",
       "      <th>TimeZone</th>\n",
       "      <th>City_Name</th>\n",
       "      <th>City_IATA</th>\n",
       "      <th>UTC_Offset_Hours</th>\n",
       "      <th>UTC_Offset_Seconds</th>\n",
       "      <th>Country_CodeA2</th>\n",
       "      <th>Country_CodeA3</th>\n",
       "      <th>Country_Name</th>\n",
       "      <th>GeoPointLat</th>\n",
       "      <th>GeoPointLong</th>\n",
       "    </tr>\n",
       "  </thead>\n",
       "  <tbody>\n",
       "    <tr>\n",
       "      <th>0</th>\n",
       "      <td>Pilanesberg Intl</td>\n",
       "      <td>NTY</td>\n",
       "      <td>FAPN</td>\n",
       "      <td>Africa/Johannesburg</td>\n",
       "      <td>Sun City</td>\n",
       "      <td>NTY</td>\n",
       "      <td>2.0</td>\n",
       "      <td>7200.0</td>\n",
       "      <td>ZA</td>\n",
       "      <td>ZAF</td>\n",
       "      <td>South Africa</td>\n",
       "      <td>-25.333822</td>\n",
       "      <td>27.173358</td>\n",
       "    </tr>\n",
       "    <tr>\n",
       "      <th>1</th>\n",
       "      <td>Clovis Muni</td>\n",
       "      <td>CVN</td>\n",
       "      <td>KCVN</td>\n",
       "      <td>America/Denver</td>\n",
       "      <td>Clovis, New Mexico</td>\n",
       "      <td>CVN</td>\n",
       "      <td>-6.0</td>\n",
       "      <td>-21600.0</td>\n",
       "      <td>US</td>\n",
       "      <td>USA</td>\n",
       "      <td>United States of America</td>\n",
       "      <td>34.425139</td>\n",
       "      <td>-103.079278</td>\n",
       "    </tr>\n",
       "    <tr>\n",
       "      <th>2</th>\n",
       "      <td>Cannon Afb</td>\n",
       "      <td>CVS</td>\n",
       "      <td>KCVS</td>\n",
       "      <td>America/Denver</td>\n",
       "      <td>Clovis, New Mexico</td>\n",
       "      <td>CVN</td>\n",
       "      <td>-6.0</td>\n",
       "      <td>-21600.0</td>\n",
       "      <td>US</td>\n",
       "      <td>USA</td>\n",
       "      <td>United States of America</td>\n",
       "      <td>34.382775</td>\n",
       "      <td>-103.322147</td>\n",
       "    </tr>\n",
       "    <tr>\n",
       "      <th>3</th>\n",
       "      <td>Scammon Bay Airport</td>\n",
       "      <td>SCM</td>\n",
       "      <td>PACM</td>\n",
       "      <td>America/Nome</td>\n",
       "      <td>Scammon Bay, Alaska</td>\n",
       "      <td>SCM</td>\n",
       "      <td>-8.0</td>\n",
       "      <td>-28800.0</td>\n",
       "      <td>US</td>\n",
       "      <td>USA</td>\n",
       "      <td>United States of America</td>\n",
       "      <td>61.845278</td>\n",
       "      <td>-165.571389</td>\n",
       "    </tr>\n",
       "    <tr>\n",
       "      <th>4</th>\n",
       "      <td>Kapit</td>\n",
       "      <td>KPI</td>\n",
       "      <td>NaN</td>\n",
       "      <td>Asia/Kuching</td>\n",
       "      <td>Kapit</td>\n",
       "      <td>KPI</td>\n",
       "      <td>8.0</td>\n",
       "      <td>28800.0</td>\n",
       "      <td>MY</td>\n",
       "      <td>MYS</td>\n",
       "      <td>Malaysia</td>\n",
       "      <td>2.017000</td>\n",
       "      <td>112.950000</td>\n",
       "    </tr>\n",
       "  </tbody>\n",
       "</table>\n",
       "</div>"
      ],
      "text/plain": [
       "            AirportName IATA  ICAO             TimeZone            City_Name  \\\n",
       "0      Pilanesberg Intl  NTY  FAPN  Africa/Johannesburg             Sun City   \n",
       "1           Clovis Muni  CVN  KCVN       America/Denver   Clovis, New Mexico   \n",
       "2            Cannon Afb  CVS  KCVS       America/Denver   Clovis, New Mexico   \n",
       "3   Scammon Bay Airport  SCM  PACM         America/Nome  Scammon Bay, Alaska   \n",
       "4  Kapit                 KPI   NaN         Asia/Kuching                Kapit   \n",
       "\n",
       "  City_IATA  UTC_Offset_Hours  UTC_Offset_Seconds Country_CodeA2  \\\n",
       "0       NTY               2.0              7200.0             ZA   \n",
       "1       CVN              -6.0            -21600.0             US   \n",
       "2       CVN              -6.0            -21600.0             US   \n",
       "3       SCM              -8.0            -28800.0             US   \n",
       "4       KPI               8.0             28800.0             MY   \n",
       "\n",
       "  Country_CodeA3              Country_Name  GeoPointLat  GeoPointLong  \n",
       "0            ZAF              South Africa   -25.333822     27.173358  \n",
       "1            USA  United States of America    34.425139   -103.079278  \n",
       "2            USA  United States of America    34.382775   -103.322147  \n",
       "3            USA  United States of America    61.845278   -165.571389  \n",
       "4            MYS                  Malaysia     2.017000    112.950000  "
      ]
     },
     "execution_count": 2,
     "metadata": {},
     "output_type": "execute_result"
    }
   ],
   "source": [
    "dataset = pd.read_csv(\"airports.csv\")\n",
    "dataset.head()"
   ]
  },
  {
   "cell_type": "code",
   "execution_count": 3,
   "id": "86e86363",
   "metadata": {},
   "outputs": [
    {
     "data": {
      "text/plain": [
       "AirportName              0\n",
       "IATA                    20\n",
       "ICAO                  1302\n",
       "TimeZone                88\n",
       "City_Name                0\n",
       "City_IATA               62\n",
       "UTC_Offset_Hours        88\n",
       "UTC_Offset_Seconds      88\n",
       "Country_CodeA2          14\n",
       "Country_CodeA3           0\n",
       "Country_Name             0\n",
       "GeoPointLat              0\n",
       "GeoPointLong             0\n",
       "dtype: int64"
      ]
     },
     "execution_count": 3,
     "metadata": {},
     "output_type": "execute_result"
    }
   ],
   "source": [
    "dataset.isnull().sum()"
   ]
  },
  {
   "cell_type": "code",
   "execution_count": 4,
   "id": "94dd5eef",
   "metadata": {},
   "outputs": [
    {
     "name": "stdout",
     "output_type": "stream",
     "text": [
      "<class 'pandas.core.frame.DataFrame'>\n",
      "RangeIndex: 6393 entries, 0 to 6392\n",
      "Data columns (total 13 columns):\n",
      " #   Column              Non-Null Count  Dtype  \n",
      "---  ------              --------------  -----  \n",
      " 0   AirportName         6393 non-null   object \n",
      " 1   IATA                6373 non-null   object \n",
      " 2   ICAO                5091 non-null   object \n",
      " 3   TimeZone            6305 non-null   object \n",
      " 4   City_Name           6393 non-null   object \n",
      " 5   City_IATA           6331 non-null   object \n",
      " 6   UTC_Offset_Hours    6305 non-null   float64\n",
      " 7   UTC_Offset_Seconds  6305 non-null   float64\n",
      " 8   Country_CodeA2      6379 non-null   object \n",
      " 9   Country_CodeA3      6393 non-null   object \n",
      " 10  Country_Name        6393 non-null   object \n",
      " 11  GeoPointLat         6393 non-null   float64\n",
      " 12  GeoPointLong        6393 non-null   float64\n",
      "dtypes: float64(4), object(9)\n",
      "memory usage: 649.4+ KB\n"
     ]
    }
   ],
   "source": [
    "dataset.info()"
   ]
  },
  {
   "cell_type": "code",
   "execution_count": 5,
   "id": "388491f7",
   "metadata": {},
   "outputs": [
    {
     "name": "stdout",
     "output_type": "stream",
     "text": [
      "(6305, 13)\n"
     ]
    }
   ],
   "source": [
    "airports_map = [\"AirportName\",\"City_Name\",\"Country_Name\",\"TimeZone\",\"GeoPointLat\",\"GeoPointLong\"]\n",
    "airports_map_clean = dataset.dropna(subset = airports_map).copy()\n",
    "print(airports_map_clean.shape)"
   ]
  },
  {
   "cell_type": "code",
   "execution_count": 6,
   "id": "3de2accf",
   "metadata": {},
   "outputs": [],
   "source": [
    "center_lat = airports_map_clean[\"GeoPointLat\"].mean()\n",
    "center_long = airports_map_clean[\"GeoPointLong\"].mean()"
   ]
  },
  {
   "cell_type": "code",
   "execution_count": 7,
   "id": "98b68a3a",
   "metadata": {},
   "outputs": [
    {
     "name": "stdout",
     "output_type": "stream",
     "text": [
      "Center Lat:24.6589519332977\n",
      " Center Long:-0.974226670407454\n"
     ]
    }
   ],
   "source": [
    "print(f\"Center Lat:{center_lat}\\n Center Long:{center_long}\")"
   ]
  },
  {
   "cell_type": "code",
   "execution_count": 8,
   "id": "364cef7f",
   "metadata": {},
   "outputs": [
    {
     "name": "stdout",
     "output_type": "stream",
     "text": [
      "Collecting folium\n",
      "  Downloading folium-0.20.0-py2.py3-none-any.whl.metadata (4.2 kB)\n",
      "Collecting branca>=0.6.0 (from folium)\n",
      "  Downloading branca-0.8.1-py3-none-any.whl.metadata (1.5 kB)\n",
      "Collecting jinja2>=2.9 (from folium)\n",
      "  Downloading jinja2-3.1.6-py3-none-any.whl.metadata (2.9 kB)\n",
      "Requirement already satisfied: numpy in /Users/wilco/DAE Projects/.venv/lib/python3.13/site-packages (from folium) (2.3.1)\n",
      "Collecting requests (from folium)\n",
      "  Downloading requests-2.32.4-py3-none-any.whl.metadata (4.9 kB)\n",
      "Collecting xyzservices (from folium)\n",
      "  Downloading xyzservices-2025.4.0-py3-none-any.whl.metadata (4.3 kB)\n",
      "Collecting MarkupSafe>=2.0 (from jinja2>=2.9->folium)\n",
      "  Using cached MarkupSafe-3.0.2-cp313-cp313-macosx_11_0_arm64.whl.metadata (4.0 kB)\n",
      "Collecting charset_normalizer<4,>=2 (from requests->folium)\n",
      "  Downloading charset_normalizer-3.4.2-cp313-cp313-macosx_10_13_universal2.whl.metadata (35 kB)\n",
      "Collecting idna<4,>=2.5 (from requests->folium)\n",
      "  Using cached idna-3.10-py3-none-any.whl.metadata (10 kB)\n",
      "Collecting urllib3<3,>=1.21.1 (from requests->folium)\n",
      "  Downloading urllib3-2.5.0-py3-none-any.whl.metadata (6.5 kB)\n",
      "Collecting certifi>=2017.4.17 (from requests->folium)\n",
      "  Downloading certifi-2025.7.9-py3-none-any.whl.metadata (2.4 kB)\n",
      "Downloading folium-0.20.0-py2.py3-none-any.whl (113 kB)\n",
      "Downloading branca-0.8.1-py3-none-any.whl (26 kB)\n",
      "Downloading jinja2-3.1.6-py3-none-any.whl (134 kB)\n",
      "Using cached MarkupSafe-3.0.2-cp313-cp313-macosx_11_0_arm64.whl (12 kB)\n",
      "Downloading requests-2.32.4-py3-none-any.whl (64 kB)\n",
      "Downloading charset_normalizer-3.4.2-cp313-cp313-macosx_10_13_universal2.whl (199 kB)\n",
      "Using cached idna-3.10-py3-none-any.whl (70 kB)\n",
      "Downloading urllib3-2.5.0-py3-none-any.whl (129 kB)\n",
      "Downloading certifi-2025.7.9-py3-none-any.whl (159 kB)\n",
      "Downloading xyzservices-2025.4.0-py3-none-any.whl (90 kB)\n",
      "Installing collected packages: xyzservices, urllib3, MarkupSafe, idna, charset_normalizer, certifi, requests, jinja2, branca, folium\n",
      "\u001b[2K   \u001b[90m━━━━━━━━━━━━━━━━━━━━━━━━━━━━━━━━━━━━━━━━\u001b[0m \u001b[32m10/10\u001b[0m [folium] 7/10\u001b[0m [jinja2]\n",
      "\u001b[1A\u001b[2KSuccessfully installed MarkupSafe-3.0.2 branca-0.8.1 certifi-2025.7.9 charset_normalizer-3.4.2 folium-0.20.0 idna-3.10 jinja2-3.1.6 requests-2.32.4 urllib3-2.5.0 xyzservices-2025.4.0\n",
      "Note: you may need to restart the kernel to use updated packages.\n"
     ]
    }
   ],
   "source": [
    "pip install folium"
   ]
  },
  {
   "cell_type": "code",
   "execution_count": 9,
   "id": "ec8bcc78",
   "metadata": {},
   "outputs": [],
   "source": [
    "import folium"
   ]
  },
  {
   "cell_type": "code",
   "execution_count": null,
   "id": "2ecea892",
   "metadata": {},
   "outputs": [],
   "source": [
    "from folium.plugins import MarkerCluster\n",
    "\n",
    "map_airports = folium.Map(location=[center_lat,center_long], zoom_start= 2)\n",
    "MarkerCluster = MarkerCluster().add_to(map_airports)\n",
    "\n",
    "for idx,row in airports_map_clean.iterrows():\n",
    "    popup_text = f\"Airport:{row['AirportName']}<br>City:{row['City_Name']}<br>Country:{row['Country_Name']}<br>Timezone:{row['TimeZone']}\"\n",
    "    folium.Marker(\n",
    "        location=[row['GeoPointLat'],row['GeoPointLong']],\n",
    "        popup= popup_text,\n",
    "    ).add_to(map_airports)\n",
    "\n",
    "map_airports.save('airport_map.html')"
   ]
  }
 ],
 "metadata": {
  "kernelspec": {
   "display_name": ".venv",
   "language": "python",
   "name": "python3"
  },
  "language_info": {
   "codemirror_mode": {
    "name": "ipython",
    "version": 3
   },
   "file_extension": ".py",
   "mimetype": "text/x-python",
   "name": "python",
   "nbconvert_exporter": "python",
   "pygments_lexer": "ipython3",
   "version": "3.13.1"
  }
 },
 "nbformat": 4,
 "nbformat_minor": 5
}
